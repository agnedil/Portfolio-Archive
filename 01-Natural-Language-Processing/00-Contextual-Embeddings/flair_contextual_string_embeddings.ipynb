{
 "cells": [
  {
   "cell_type": "markdown",
   "metadata": {
    "colab_type": "text",
    "id": "2R3Gx-mYj5Si"
   },
   "source": [
    "# FLAIR Contextual String Embeddings\n",
    "Based on [this post](https://towardsdatascience.com/contextual-embeddings-for-nlp-sequence-labeling-9a92ba5a6cf0).\n",
    "More details at:\n",
    "* https://github.com/flairNLP/flair/tree/master/resources/docs\n",
    "* https://www.analyticsvidhya.com/blog/2019/02/flair-nlp-library-python/"
   ]
  },
  {
   "cell_type": "code",
   "execution_count": 0,
   "metadata": {
    "colab": {
     "base_uri": "https://localhost:8080/",
     "height": 714
    },
    "colab_type": "code",
    "id": "Q3XtTcClkDa6",
    "outputId": "5d06c91e-d865-4ca6-92d5-1f55e24a0e0e"
   },
   "outputs": [
    {
     "name": "stdout",
     "output_type": "stream",
     "text": [
      "Requirement already satisfied: flair in /usr/local/lib/python3.6/dist-packages (0.4.0)\n",
      "Requirement already satisfied: hyperopt==0.1.1 in /usr/local/lib/python3.6/dist-packages (from flair) (0.1.1)\n",
      "Requirement already satisfied: sklearn in /usr/local/lib/python3.6/dist-packages (from flair) (0.0)\n",
      "Requirement already satisfied: typing==3.6.4 in /usr/local/lib/python3.6/dist-packages (from flair) (3.6.4)\n",
      "Requirement already satisfied: deprecated==1.2.4 in /usr/local/lib/python3.6/dist-packages (from flair) (1.2.4)\n",
      "Requirement already satisfied: gensim==3.4.0 in /usr/local/lib/python3.6/dist-packages (from flair) (3.4.0)\n",
      "Requirement already satisfied: pytorch-pretrained-bert==0.3.0 in /usr/local/lib/python3.6/dist-packages (from flair) (0.3.0)\n",
      "Requirement already satisfied: segtok==1.5.7 in /usr/local/lib/python3.6/dist-packages (from flair) (1.5.7)\n",
      "Requirement already satisfied: tqdm==4.26.0 in /usr/local/lib/python3.6/dist-packages (from flair) (4.26.0)\n",
      "Requirement already satisfied: mpld3==0.3 in /usr/local/lib/python3.6/dist-packages (from flair) (0.3)\n",
      "Requirement already satisfied: matplotlib==3.0.0 in /usr/local/lib/python3.6/dist-packages (from flair) (3.0.0)\n",
      "Requirement already satisfied: torch==1.0.0 in /usr/local/lib/python3.6/dist-packages (from flair) (1.0.0)\n",
      "Requirement already satisfied: sqlitedict==1.6.0 in /usr/local/lib/python3.6/dist-packages (from flair) (1.6.0)\n",
      "Requirement already satisfied: scipy in /usr/local/lib/python3.6/dist-packages (from hyperopt==0.1.1->flair) (1.1.0)\n",
      "Requirement already satisfied: six in /usr/local/lib/python3.6/dist-packages (from hyperopt==0.1.1->flair) (1.11.0)\n",
      "Requirement already satisfied: numpy in /usr/local/lib/python3.6/dist-packages (from hyperopt==0.1.1->flair) (1.14.6)\n",
      "Requirement already satisfied: pymongo in /usr/local/lib/python3.6/dist-packages (from hyperopt==0.1.1->flair) (3.7.2)\n",
      "Requirement already satisfied: networkx in /usr/local/lib/python3.6/dist-packages (from hyperopt==0.1.1->flair) (2.2)\n",
      "Requirement already satisfied: future in /usr/local/lib/python3.6/dist-packages (from hyperopt==0.1.1->flair) (0.16.0)\n",
      "Requirement already satisfied: scikit-learn in /usr/local/lib/python3.6/dist-packages (from sklearn->flair) (0.20.2)\n",
      "Requirement already satisfied: wrapt<2,>=1 in /usr/local/lib/python3.6/dist-packages (from deprecated==1.2.4->flair) (1.10.11)\n",
      "Requirement already satisfied: smart-open>=1.2.1 in /usr/local/lib/python3.6/dist-packages (from gensim==3.4.0->flair) (1.7.1)\n",
      "Requirement already satisfied: requests in /usr/local/lib/python3.6/dist-packages (from pytorch-pretrained-bert==0.3.0->flair) (2.18.4)\n",
      "Requirement already satisfied: boto3 in /usr/local/lib/python3.6/dist-packages (from pytorch-pretrained-bert==0.3.0->flair) (1.9.75)\n",
      "Requirement already satisfied: regex in /usr/local/lib/python3.6/dist-packages (from segtok==1.5.7->flair) (2018.1.10)\n",
      "Requirement already satisfied: python-dateutil>=2.1 in /usr/local/lib/python3.6/dist-packages (from matplotlib==3.0.0->flair) (2.5.3)\n",
      "Requirement already satisfied: cycler>=0.10 in /usr/local/lib/python3.6/dist-packages (from matplotlib==3.0.0->flair) (0.10.0)\n",
      "Requirement already satisfied: kiwisolver>=1.0.1 in /usr/local/lib/python3.6/dist-packages (from matplotlib==3.0.0->flair) (1.0.1)\n",
      "Requirement already satisfied: pyparsing!=2.0.4,!=2.1.2,!=2.1.6,>=2.0.1 in /usr/local/lib/python3.6/dist-packages (from matplotlib==3.0.0->flair) (2.3.0)\n",
      "Requirement already satisfied: decorator>=4.3.0 in /usr/local/lib/python3.6/dist-packages (from networkx->hyperopt==0.1.1->flair) (4.3.0)\n",
      "Requirement already satisfied: boto>=2.32 in /usr/local/lib/python3.6/dist-packages (from smart-open>=1.2.1->gensim==3.4.0->flair) (2.49.0)\n",
      "Requirement already satisfied: bz2file in /usr/local/lib/python3.6/dist-packages (from smart-open>=1.2.1->gensim==3.4.0->flair) (0.98)\n",
      "Requirement already satisfied: certifi>=2017.4.17 in /usr/local/lib/python3.6/dist-packages (from requests->pytorch-pretrained-bert==0.3.0->flair) (2018.11.29)\n",
      "Requirement already satisfied: urllib3<1.23,>=1.21.1 in /usr/local/lib/python3.6/dist-packages (from requests->pytorch-pretrained-bert==0.3.0->flair) (1.22)\n",
      "Requirement already satisfied: idna<2.7,>=2.5 in /usr/local/lib/python3.6/dist-packages (from requests->pytorch-pretrained-bert==0.3.0->flair) (2.6)\n",
      "Requirement already satisfied: chardet<3.1.0,>=3.0.2 in /usr/local/lib/python3.6/dist-packages (from requests->pytorch-pretrained-bert==0.3.0->flair) (3.0.4)\n",
      "Requirement already satisfied: s3transfer<0.2.0,>=0.1.10 in /usr/local/lib/python3.6/dist-packages (from boto3->pytorch-pretrained-bert==0.3.0->flair) (0.1.13)\n",
      "Requirement already satisfied: jmespath<1.0.0,>=0.7.1 in /usr/local/lib/python3.6/dist-packages (from boto3->pytorch-pretrained-bert==0.3.0->flair) (0.9.3)\n",
      "Requirement already satisfied: botocore<1.13.0,>=1.12.75 in /usr/local/lib/python3.6/dist-packages (from boto3->pytorch-pretrained-bert==0.3.0->flair) (1.12.75)\n",
      "Requirement already satisfied: setuptools in /usr/local/lib/python3.6/dist-packages (from kiwisolver>=1.0.1->matplotlib==3.0.0->flair) (40.6.3)\n",
      "Requirement already satisfied: docutils>=0.10 in /usr/local/lib/python3.6/dist-packages (from botocore<1.13.0,>=1.12.75->boto3->pytorch-pretrained-bert==0.3.0->flair) (0.14)\n"
     ]
    }
   ],
   "source": [
    "!pip install flair"
   ]
  },
  {
   "cell_type": "code",
   "execution_count": 0,
   "metadata": {
    "colab": {},
    "colab_type": "code",
    "id": "VjMG0JzCkFNS"
   },
   "outputs": [],
   "source": [
    "from flair.models import TextClassifier\n",
    "from flair.data import Sentence\n",
    "from flair.models import SequenceTagger"
   ]
  },
  {
   "cell_type": "markdown",
   "metadata": {
    "colab_type": "text",
    "id": "6zdZJvbyj4cT"
   },
   "source": [
    "# Named Entity Recognition (NER)"
   ]
  },
  {
   "cell_type": "code",
   "execution_count": 0,
   "metadata": {
    "colab": {},
    "colab_type": "code",
    "id": "txcKg77wl7PU"
   },
   "outputs": [],
   "source": [
    "tagger = SequenceTagger.load('ner')"
   ]
  },
  {
   "cell_type": "code",
   "execution_count": 0,
   "metadata": {
    "colab": {},
    "colab_type": "code",
    "id": "GOzMwn5mkBN6"
   },
   "outputs": [],
   "source": [
    "sample_texts = [\n",
    "    \"I studied in University of Washington.\",\n",
    "    \"Founded in 1861, Washington was first established in downtown Seattle approximately a decade after the city's founding to aid its economic development.\",\n",
    "]"
   ]
  },
  {
   "cell_type": "code",
   "execution_count": 0,
   "metadata": {
    "colab": {
     "base_uri": "https://localhost:8080/",
     "height": 204
    },
    "colab_type": "code",
    "id": "0jGDZLtLk2dT",
    "outputId": "7d51f723-6599-4ea7-86ce-2f501f0c0f01"
   },
   "outputs": [
    {
     "name": "stdout",
     "output_type": "stream",
     "text": [
      "--------------------------------------------------\n",
      "Original Text\n",
      "I studied in University of Washington.\n",
      "NER Result\n",
      "ORG-span [4,5,6]: \"University of Washington.\"\n",
      "--------------------------------------------------\n",
      "Original Text\n",
      "Founded in 1861, Washington was first established in downtown Seattle approximately a decade after the city's founding to aid its economic development.\n",
      "NER Result\n",
      "LOC-span [4]: \"Washington\"\n",
      "LOC-span [10]: \"Seattle\"\n"
     ]
    }
   ],
   "source": [
    "for text in sample_texts:\n",
    "  print('-' * 50)\n",
    "  print('Original Text')\n",
    "  print(text)\n",
    "  \n",
    "  print('NER Result')\n",
    "  sentence = Sentence(text)\n",
    "  tagger.predict(sentence)\n",
    "  for entity in sentence.get_spans('ner'):\n",
    "    print(entity)"
   ]
  },
  {
   "cell_type": "markdown",
   "metadata": {
    "colab_type": "text",
    "id": "As7P4AitlsH0"
   },
   "source": [
    "# Sentiment Classification"
   ]
  },
  {
   "cell_type": "code",
   "execution_count": 0,
   "metadata": {
    "colab": {},
    "colab_type": "code",
    "id": "m9OHeqdKk2xl"
   },
   "outputs": [],
   "source": [
    "classifier = TextClassifier.load('en-sentiment')"
   ]
  },
  {
   "cell_type": "code",
   "execution_count": 0,
   "metadata": {
    "colab": {},
    "colab_type": "code",
    "id": "FjXtJMfIl_l9"
   },
   "outputs": [],
   "source": [
    "sample_texts = [\n",
    "    \"Medium is a good platform for sharing idea\",\n",
    "]"
   ]
  },
  {
   "cell_type": "code",
   "execution_count": 0,
   "metadata": {
    "colab": {
     "base_uri": "https://localhost:8080/",
     "height": 102
    },
    "colab_type": "code",
    "id": "C2UCYamOgZ5B",
    "outputId": "9dbba8c1-99cb-45ed-c050-046e78966a7e"
   },
   "outputs": [
    {
     "name": "stdout",
     "output_type": "stream",
     "text": [
      "--------------------------------------------------\n",
      "Original Text\n",
      "Medium is a good platform for sharing idea\n",
      "Classification Result\n",
      "[POSITIVE (0.7012046575546265)]\n"
     ]
    }
   ],
   "source": [
    "for text in sample_texts:\n",
    "  print('-' * 50)\n",
    "  print('Original Text')\n",
    "  print(text)\n",
    "  \n",
    "  print('Classification Result')\n",
    "  sentence = Sentence(text)\n",
    "  classifier.predict(sentence)\n",
    "  print(sentence.labels)"
   ]
  }
 ],
 "metadata": {
  "colab": {
   "collapsed_sections": [],
   "name": "word_embeddings-flair.ipynb",
   "provenance": []
  },
  "kernelspec": {
   "display_name": "Python 3",
   "language": "python",
   "name": "python3"
  },
  "language_info": {
   "codemirror_mode": {
    "name": "ipython",
    "version": 3
   },
   "file_extension": ".py",
   "mimetype": "text/x-python",
   "name": "python",
   "nbconvert_exporter": "python",
   "pygments_lexer": "ipython3",
   "version": "3.7.3"
  }
 },
 "nbformat": 4,
 "nbformat_minor": 1
}
