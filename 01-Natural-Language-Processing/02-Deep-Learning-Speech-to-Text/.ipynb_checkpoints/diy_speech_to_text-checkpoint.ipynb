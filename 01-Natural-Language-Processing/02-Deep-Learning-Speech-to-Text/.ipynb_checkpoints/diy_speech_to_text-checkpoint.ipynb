{
 "cells": [
  {
   "cell_type": "markdown",
   "metadata": {},
   "source": [
    "# DIY Speech Recognition\n",
    "Inspired by [this post](https://towardsdatascience.com/easy-speech-to-text-with-python-3df0d973b426).  \n",
    "Much more details on the same Python library here:\n",
    "* [The Ultimate Guide To Speech Recognition With Python](https://realpython.com/python-speech-recognition/)\n",
    "* [Module documentation](https://pypi.org/project/SpeechRecognition/)\n",
    "* [Speech samples for American English](https://www.voiptroubleshooter.com/open_speech/american.html)\n",
    "\n",
    "Speech_recognition: _'pip install SpeechRecognition'_  \n",
    "PyAudio on Windows: _if not 'pip install PyAudio', [pip install this.whl (Python 3.7, 64 bit)](https://www.lfd.uci.edu/~gohlke/pythonlibs/#pyaudio)_"
   ]
  },
  {
   "cell_type": "code",
   "execution_count": 9,
   "metadata": {},
   "outputs": [],
   "source": [
    "import speech_recognition as sr\n",
    "from playsound import playsound"
   ]
  },
  {
   "cell_type": "markdown",
   "metadata": {},
   "source": [
    "## Using audio file\n",
    "Using Google Speech Recognition. \n",
    "[Language codes in Recognize Google](https://cloud.google.com/speech-to-text/docs/languages)"
   ]
  },
  {
   "cell_type": "code",
   "execution_count": 5,
   "metadata": {},
   "outputs": [
    {
     "name": "stdout",
     "output_type": "stream",
     "text": [
      "Converting audio transcripts into text ...\n",
      "Text from file: search canoe slid on the smooth plank glue the sea to a dark blue background it is easy to tell the depth of a well these day the chicken leg of a variegated shrubs in Randall's the juice of lemons makes fine punch the boxes on the side the pump truck the ha grimstead top corn and garbage\n"
     ]
    }
   ],
   "source": [
    "file = './data/OSR_us_000_0010_8k.wav'\n",
    "\n",
    "# Initialize recognizer class\n",
    "r = sr.Recognizer()\n",
    "\n",
    "# Audio file as source: listen and store speech in audio\n",
    "with sr.AudioFile(file) as source:\n",
    "    \n",
    "    audio = r.listen(source)\n",
    "\n",
    "    try:                                                               # recoginize_() throws request error if API unreachable        \n",
    "        print('Converting audio transcripts into text ...')\n",
    "        text = r.recognize_google(audio)                               # using google speech recognition \n",
    "        print('Text from file:', text)\n",
    "     \n",
    "    except:\n",
    "         print('Try again')"
   ]
  },
  {
   "cell_type": "code",
   "execution_count": 6,
   "metadata": {},
   "outputs": [],
   "source": [
    "# Verify\n",
    "playsound(file)"
   ]
  },
  {
   "cell_type": "markdown",
   "metadata": {},
   "source": [
    "## Using micophone"
   ]
  },
  {
   "cell_type": "code",
   "execution_count": 10,
   "metadata": {},
   "outputs": [],
   "source": [
    "def listen():\n",
    "\n",
    "    # Microphone as source: listen and store speech in audio\n",
    "    with sr.Microphone() as source:\n",
    "        print('Say something!')\n",
    "        audio = r.listen(source)\n",
    "                \n",
    "    return audio\n",
    "\n",
    "    \n",
    "# initialize recognizer class \n",
    "r = sr.Recognizer()    "
   ]
  },
  {
   "cell_type": "code",
   "execution_count": 15,
   "metadata": {},
   "outputs": [
    {
     "name": "stdout",
     "output_type": "stream",
     "text": [
      "Say something!\n",
      "You said: hello world it's me again\n"
     ]
    }
   ],
   "source": [
    "# English by default\n",
    "audio = listen()\n",
    "try:                                                              # recoginize_() throws request error if API unreachable\n",
    "    print('You said:', r.recognize_google(audio))                 # using google speech recognition        \n",
    "except:\n",
    "    print('Try again')"
   ]
  },
  {
   "cell_type": "code",
   "execution_count": 14,
   "metadata": {},
   "outputs": [
    {
     "name": "stdout",
     "output_type": "stream",
     "text": [
      "Say something!\n",
      "Ты сказал: где-то на белом свете там где всегда мороз Трутся спиной медведи о земную ось\n"
     ]
    }
   ],
   "source": [
    "# another language\n",
    "audio = listen()\n",
    "try:                                                              \n",
    "    print('Ты сказал:', r.recognize_google(audio, language='ru-RU'))       \n",
    "except:\n",
    "    print('Try again')"
   ]
  },
  {
   "cell_type": "code",
   "execution_count": null,
   "metadata": {},
   "outputs": [],
   "source": []
  }
 ],
 "metadata": {
  "kernelspec": {
   "display_name": "Python 3",
   "language": "python",
   "name": "python3"
  },
  "language_info": {
   "codemirror_mode": {
    "name": "ipython",
    "version": 3
   },
   "file_extension": ".py",
   "mimetype": "text/x-python",
   "name": "python",
   "nbconvert_exporter": "python",
   "pygments_lexer": "ipython3",
   "version": "3.7.3"
  }
 },
 "nbformat": 4,
 "nbformat_minor": 2
}
