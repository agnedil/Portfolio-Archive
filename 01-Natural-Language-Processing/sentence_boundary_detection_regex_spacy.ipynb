{
 "cells": [
  {
   "cell_type": "markdown",
   "metadata": {},
   "source": [
    "# Sentence Boundary Detection: REGEX vs. Spacy vs. NLTK"
   ]
  },
  {
   "cell_type": "code",
   "execution_count": 2,
   "metadata": {},
   "outputs": [],
   "source": [
    "import string\n",
    "import re\n",
    "import time\n",
    "import numpy as np\n",
    "import pandas as pd\n",
    "import nltk\n",
    "import spacy"
   ]
  },
  {
   "cell_type": "code",
   "execution_count": 3,
   "metadata": {},
   "outputs": [],
   "source": [
    "# SPACY\n",
    "# As opposed to sm. md, lg models, English() lass in spacy.lang.en contains only language-specific code\n",
    "# and rules – e.g. for tokenization, stop words, etc.\n",
    "\n",
    "# TRAINED MODEL\n",
    "nlp_lg = spacy.load('en_core_web_lg')\n",
    "\n",
    "# RULES-BASED SENTENCIZER\n",
    "from spacy.lang.en import English\n",
    "nlp_sentencizer = English()\n",
    "sentencizer = nlp_sentencizer.create_pipe('sentencizer')\n",
    "nlp_sentencizer.add_pipe(sentencizer)\n",
    "\n",
    "# SEPARATE PACKAGE THAT WORKS WITH SPACY \n",
    "from pysbd.utils import PySBDFactory\n",
    "nlp_pysbd = spacy.blank('en')\n",
    "nlp_pysbd.add_pipe( PySBDFactory( nlp_pysbd ) )"
   ]
  },
  {
   "cell_type": "code",
   "execution_count": 4,
   "metadata": {},
   "outputs": [],
   "source": [
    "# NLTK - 2 WAYS. IDENTICAL RESULTS, nltk_data_tokenizer is ~1 sec faster on 25K articles (14 vs. 15 sec.)\n",
    "def nltk_tokenize( _text ):\n",
    "    return nltk.tokenize.sent_tokenize( _text )\n",
    "\n",
    "\n",
    "tokenizer = nltk.data.load('tokenizers/punkt/english.pickle')\n",
    "def nltk_data_tokenizer( _text ):\n",
    "    return tokenizer.tokenize( _text )"
   ]
  },
  {
   "cell_type": "code",
   "execution_count": 5,
   "metadata": {},
   "outputs": [],
   "source": [
    "# REGEX - SIMPLE (WEAK) AND COMPLEX WAY\n",
    "alphabets= \"([A-Za-z])\"\n",
    "prefixes = \"(Mr|St|Mrs|Ms|Dr|Prof|Capt|Cpt|Lt|Mt)[.]\"\n",
    "suffixes = \"(Inc|Ltd|Jr|Sr|Co)\"\n",
    "starters = \"(Mr|Mrs|Ms|Dr|He\\s|She\\s|It\\s|They\\s|Their\\s|Our\\s|We\\s|But\\s|However\\s|That\\s|This\\s|Wherever)\"\n",
    "acronyms = \"([A-Z][.][A-Z][.](?:[A-Z][.])?)\"\n",
    "websites = \"[.](com|net|org|io|gov|ai|me|edu|co.uk|ru|info|biz|online)\"\n",
    "digits   = \"([0-9])\"\n",
    "\n",
    "sent_bounds = re.compile('[.!?]')\n",
    "\n",
    "# breaks on 9:30 p.m.\n",
    "def simple_regex_sents( _text ):        \n",
    "    return [ i.strip() for i in sent_bounds.split( _text ) ]\n",
    "    \n",
    "\n",
    "def regex_sents(text):\n",
    "        \n",
    "    text = \" \" + text + \"  \"\n",
    "    text = text.replace(\"\\n\",\" \")\n",
    "    text = re.sub(prefixes,\"\\\\1<prd>\",text)\n",
    "    text = re.sub(websites,\"<prd>\\\\1\",text)\n",
    "        \n",
    "    if \"Ph.D\" in text: text = text.replace(\"Ph.D.\",\"Ph<prd>D<prd>\")\n",
    "    if \"e.g.\" in text: text = text.replace(\"e.g.\", \"e<prd>g<prd>\")\n",
    "    if \"i.e.\" in text: text = text.replace(\"i.e.\", \"i<prd>e<prd>\")\n",
    "    #if \"...\" in text: text = text.replace(\"...\",\"<prd><prd><prd>\")\n",
    "                \n",
    "    text = re.sub(\"\\s\" + alphabets + \"[.] \",\" \\\\1<prd> \",text)\n",
    "    text = re.sub(acronyms+\" \"+starters,\"\\\\1<stop> \\\\2\",text)\n",
    "    text = re.sub(alphabets + \"[.]\" + alphabets + \"[.]\" + alphabets + \"[.]\",\"\\\\1<prd>\\\\2<prd>\\\\3<prd>\",text)\n",
    "    text = re.sub(alphabets + \"[.]\" + alphabets + \"[.]\",\"\\\\1<prd>\\\\2<prd>\",text)\n",
    "    text = re.sub(\" \"+suffixes+\"[.] \"+starters,\" \\\\1<stop> \\\\2\",text)\n",
    "    text = re.sub(\" \"+suffixes+\"[.]\",\" \\\\1<prd>\",text)\n",
    "    text = re.sub(\" \" + alphabets + \"[.]\",\" \\\\1<prd>\",text)\n",
    "    text = re.sub(digits + \"[.]\" + digits, \"\\\\1<prd>\\\\2\", text)\n",
    "        \n",
    "    if \"”\" in text: text = text.replace(\".”\",\"”.\")\n",
    "    if \"\\\"\" in text: text = text.replace(\".\\\"\",\"\\\".\")\n",
    "    if \"!\" in text: text = text.replace(\"!\\\"\",\"\\\"!\")\n",
    "    if \"?\" in text: text = text.replace(\"?\\\"\",\"\\\"?\")\n",
    "    \n",
    "    text = text.replace(\".\", \".<stop>\")\n",
    "    text = text.replace(\"?\", \"?<stop>\")\n",
    "    text = text.replace(\"!\", \"!<stop>\")\n",
    "    text = text.replace(\"<prd>\", \".\")\n",
    "        \n",
    "    sentences = text.split(\"<stop>\")\n",
    "    sentences = sentences[:-1]\n",
    "    sentences = [s.strip() for s in sentences]\n",
    "    \n",
    "    return sentences"
   ]
  },
  {
   "cell_type": "code",
   "execution_count": 6,
   "metadata": {},
   "outputs": [],
   "source": [
    "def print_sents(_list):\n",
    "    \n",
    "    for _idx, _sent in enumerate(_list):\n",
    "        print('{}. {}'.format(_idx+1, _sent))\n",
    "                \n",
    "\n",
    "def apply_sent_split(_list):\n",
    "    \n",
    "    res = ''\n",
    "    for _idx, _sent in enumerate(_list):\n",
    "        res += '{}. {}\\n'.format(_idx+1, _sent)\n",
    "        \n",
    "    return res"
   ]
  },
  {
   "cell_type": "code",
   "execution_count": 7,
   "metadata": {},
   "outputs": [],
   "source": [
    "text = ''' Hawaii community spreads power of 'aloha' after security guard returns wallet\n",
    "HAWAII -- A community in Hawaii is spreading the power of aloha after coming together to purchase a car for a hard-working security officer.\n",
    "\n",
    "It all started when Aina Townsend, 22, a security guard from the island of Maui in Hawaii, was working at Foodland supermarket in Kahlui last month. While on his shift, he found a brown wallet left behind in one of the shopping carts.\n",
    "The wallet belonged to 30-year-old Chloe Marino of Maui, who didn't realize her wallet was missing until Townsend came to return it in person that same day.\n",
    "\n",
    "\"It was just such a selfless act and you know, he wasn't expecting anything in return,\" Chloe Marino told \"Good Morning America.\" \"He said, 'I wanted to return it to you so you didn't have to be without it for the holidays.'\"\n",
    "'''"
   ]
  },
  {
   "cell_type": "code",
   "execution_count": 8,
   "metadata": {},
   "outputs": [
    {
     "name": "stdout",
     "output_type": "stream",
     "text": [
      "1. Hawaii community spreads power of 'aloha' after security guard returns wallet HAWAII -- A community in Hawaii is spreading the power of aloha after coming together to purchase a car for a hard-working security officer.\n",
      "2. It all started when Aina Townsend, 22, a security guard from the island of Maui in Hawaii, was working at Foodland supermarket in Kahlui last month.\n",
      "3. While on his shift, he found a brown wallet left behind in one of the shopping carts.\n",
      "4. The wallet belonged to 30-year-old Chloe Marino of Maui, who didn't realize her wallet was missing until Townsend came to return it in person that same day.\n",
      "5. \"It was just such a selfless act and you know, he wasn't expecting anything in return,\" Chloe Marino told \"Good Morning America\".\n",
      "6. \"He said, 'I wanted to return it to you so you didn't have to be without it for the holidays.\n"
     ]
    }
   ],
   "source": [
    "sents = regex_sents( text )\n",
    "print_sents( sents )"
   ]
  },
  {
   "cell_type": "code",
   "execution_count": 9,
   "metadata": {},
   "outputs": [
    {
     "name": "stdout",
     "output_type": "stream",
     "text": [
      "1. Hawaii community spreads power of 'aloha' after security guard returns wallet\n",
      "HAWAII -- A community in Hawaii is spreading the power of aloha after coming together to purchase a car for a hard-working security officer\n",
      "2. It all started when Aina Townsend, 22, a security guard from the island of Maui in Hawaii, was working at Foodland supermarket in Kahlui last month\n",
      "3. While on his shift, he found a brown wallet left behind in one of the shopping carts\n",
      "4. The wallet belonged to 30-year-old Chloe Marino of Maui, who didn't realize her wallet was missing until Townsend came to return it in person that same day\n",
      "5. \"It was just such a selfless act and you know, he wasn't expecting anything in return,\" Chloe Marino told \"Good Morning America\n",
      "6. \" \"He said, 'I wanted to return it to you so you didn't have to be without it for the holidays\n",
      "7. '\"\n"
     ]
    }
   ],
   "source": [
    "sents = simple_regex_sents( text )\n",
    "print_sents( sents )"
   ]
  },
  {
   "cell_type": "code",
   "execution_count": 10,
   "metadata": {},
   "outputs": [
    {
     "name": "stdout",
     "output_type": "stream",
     "text": [
      "1. Hawaii community spreads power of 'aloha' after security guard returns wallet\n",
      "HAWAII -- A community in Hawaii is spreading the power of aloha after coming together to purchase a car for a hard-working security officer.\n",
      "2. It all started when Aina Townsend, 22, a security guard from the island of Maui in Hawaii, was working at Foodland supermarket in Kahlui last month.\n",
      "3. While on his shift, he found a brown wallet left behind in one of the shopping carts.\n",
      "4. The wallet belonged to 30-year-old Chloe Marino of Maui, who didn't realize her wallet was missing until Townsend came to return it in person that same day.\n",
      "5. \"It was just such a selfless act and you know, he wasn't expecting anything in return,\" Chloe Marino told \"Good Morning America.\" \"\n",
      "6. He said, 'I wanted to return it to you so you didn't have to be without it for the holidays.'\"\n",
      "7. \n"
     ]
    }
   ],
   "source": [
    "doc = nlp_sentencizer( text )\n",
    "sents = [ sent.text.strip() for sent in doc.sents ]\n",
    "print_sents( sents )"
   ]
  },
  {
   "cell_type": "code",
   "execution_count": 11,
   "metadata": {},
   "outputs": [
    {
     "name": "stdout",
     "output_type": "stream",
     "text": [
      "1. Hawaii community spreads power of 'aloha' after security guard returns wallet\n",
      "HAWAII -- A community in Hawaii is spreading the power of aloha after coming together to purchase a car for a hard-working security officer.\n",
      "2. It all started when Aina Townsend, 22, a security guard from the island of Maui in Hawaii, was working at Foodland supermarket in Kahlui last month.\n",
      "3. While on his shift, he found a brown wallet left behind in one of the shopping carts.\n",
      "4. The wallet belonged to 30-year-old Chloe Marino of Maui, who didn't realize her wallet was missing until Townsend came to return it in person that same day.\n",
      "5. \"It was just such a selfless act\n",
      "6. and you know, he wasn't expecting anything in return,\" Chloe Marino told \"Good Morning America.\"\n",
      "7. \"He said, 'I wanted to return it to you\n",
      "8. so you didn't have to be without it for the holidays.'\"\n"
     ]
    }
   ],
   "source": [
    "doc = nlp_lg( text )\n",
    "sents = [ sent.text.strip() for sent in doc.sents ]\n",
    "print_sents( sents )"
   ]
  },
  {
   "cell_type": "code",
   "execution_count": 12,
   "metadata": {},
   "outputs": [
    {
     "name": "stdout",
     "output_type": "stream",
     "text": [
      "1. \n",
      "2. Hawaii community spreads power of 'aloha' after security guard returns wallet\n",
      "3. HAWAII -- A community in Hawaii is spreading the power of aloha after coming together to purchase a car for a hard-working security officer.\n",
      "4. It all started when Aina Townsend, 22, a security guard from the island of Maui in Hawaii, was working at Foodland supermarket in Kahlui last month.\n",
      "5. While on his shift, he found a brown wallet left behind in one of the shopping carts.\n",
      "6. The wallet belonged to 30-year-old Chloe Marino of Maui, who didn't realize her wallet was missing until Townsend came to return it in person that same day.\n",
      "7. \"It was just such a selfless act and you know, he wasn't expecting anything in return,\" Chloe Marino told \"Good Morning America.\" \"He said, 'I wanted to return it to you so you didn't have to be without it for the holidays.'\"\n"
     ]
    }
   ],
   "source": [
    "doc = nlp_pysbd( text )\n",
    "sents = [ sent.text.strip() for sent in doc.sents ]\n",
    "print_sents( sents )"
   ]
  },
  {
   "cell_type": "code",
   "execution_count": 13,
   "metadata": {},
   "outputs": [
    {
     "name": "stdout",
     "output_type": "stream",
     "text": [
      "1.  Hawaii community spreads power of 'aloha' after security guard returns wallet\n",
      "HAWAII -- A community in Hawaii is spreading the power of aloha after coming together to purchase a car for a hard-working security officer.\n",
      "2. It all started when Aina Townsend, 22, a security guard from the island of Maui in Hawaii, was working at Foodland supermarket in Kahlui last month.\n",
      "3. While on his shift, he found a brown wallet left behind in one of the shopping carts.\n",
      "4. The wallet belonged to 30-year-old Chloe Marino of Maui, who didn't realize her wallet was missing until Townsend came to return it in person that same day.\n",
      "5. \"It was just such a selfless act and you know, he wasn't expecting anything in return,\" Chloe Marino told \"Good Morning America.\"\n",
      "6. \"He said, 'I wanted to return it to you so you didn't have to be without it for the holidays.'\"\n"
     ]
    }
   ],
   "source": [
    "sents = nltk_tokenize( text)\n",
    "print_sents( sents )"
   ]
  },
  {
   "cell_type": "code",
   "execution_count": 14,
   "metadata": {},
   "outputs": [
    {
     "name": "stdout",
     "output_type": "stream",
     "text": [
      "1.  Hawaii community spreads power of 'aloha' after security guard returns wallet\n",
      "HAWAII -- A community in Hawaii is spreading the power of aloha after coming together to purchase a car for a hard-working security officer.\n",
      "2. It all started when Aina Townsend, 22, a security guard from the island of Maui in Hawaii, was working at Foodland supermarket in Kahlui last month.\n",
      "3. While on his shift, he found a brown wallet left behind in one of the shopping carts.\n",
      "4. The wallet belonged to 30-year-old Chloe Marino of Maui, who didn't realize her wallet was missing until Townsend came to return it in person that same day.\n",
      "5. \"It was just such a selfless act and you know, he wasn't expecting anything in return,\" Chloe Marino told \"Good Morning America.\"\n",
      "6. \"He said, 'I wanted to return it to you so you didn't have to be without it for the holidays.'\"\n"
     ]
    }
   ],
   "source": [
    "sents = nltk_data_tokenizer( text )\n",
    "print_sents( sents )"
   ]
  },
  {
   "cell_type": "code",
   "execution_count": null,
   "metadata": {},
   "outputs": [],
   "source": []
  },
  {
   "cell_type": "code",
   "execution_count": 16,
   "metadata": {},
   "outputs": [
    {
     "data": {
      "text/plain": [
       "['tagger', 'set_custom_Sentence_end_points', 'parser', 'ner']"
      ]
     },
     "execution_count": 16,
     "metadata": {},
     "output_type": "execute_result"
    }
   ],
   "source": [
    "#ADD NEW RULE TO PIPELINE - to add a sentence end after the article title before next line's capitalized word\n",
    "def set_custom_Sentence_end_points(doc):\n",
    "    for token in doc[:-1]:\n",
    "        if token.text == ';':\n",
    "            doc[token.i+1].is_sent_start = True\n",
    "    return doc\n",
    "\n",
    "nlp_lg.add_pipe(set_custom_Sentence_end_points, before='parser')\n",
    "nlp_lg.pipe_names"
   ]
  },
  {
   "cell_type": "code",
   "execution_count": null,
   "metadata": {},
   "outputs": [],
   "source": []
  }
 ],
 "metadata": {
  "kernelspec": {
   "display_name": "Python 3",
   "language": "python",
   "name": "python3"
  },
  "language_info": {
   "codemirror_mode": {
    "name": "ipython",
    "version": 3
   },
   "file_extension": ".py",
   "mimetype": "text/x-python",
   "name": "python",
   "nbconvert_exporter": "python",
   "pygments_lexer": "ipython3",
   "version": "3.7.9"
  }
 },
 "nbformat": 4,
 "nbformat_minor": 4
}
