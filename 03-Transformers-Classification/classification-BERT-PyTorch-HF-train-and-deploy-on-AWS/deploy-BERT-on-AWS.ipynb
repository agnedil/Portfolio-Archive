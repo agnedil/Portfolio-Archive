{
 "cells": [
  {
   "cell_type": "markdown",
   "metadata": {},
   "source": [
    "# Deploy PyTorch Model\n",
    "References:\n",
    "* https://sagemaker.readthedocs.io/en/stable/frameworks/pytorch/using_pytorch.html#deploy-pytorch-models\n",
    "* https://sagemaker.readthedocs.io/en/stable/frameworks/pytorch/sagemaker.pytorch.html?highlight=pytorch%20deploy#pytorch-estimator\n",
    "\n",
    "`model.tar.gz` already contains `inference.py` and `requirement.txt` as per:\n",
    "https://workhuman.atlassian.net/wiki/spaces/whiqnlp/pages/9327519450/Packaging+Models+For+Deployment"
   ]
  },
  {
   "cell_type": "code",
   "execution_count": 2,
   "metadata": {},
   "outputs": [],
   "source": [
    "import os\n",
    "import sagemaker\n",
    "import boto3\n",
    "from sagemaker.pytorch.estimator import PyTorch"
   ]
  },
  {
   "cell_type": "code",
   "execution_count": 3,
   "metadata": {},
   "outputs": [],
   "source": [
    "os.environ[\"AWS_REGION\"] = \"\"\n",
    "os.environ[\"AWS_DEFAULT_REGION\"] = \"\"\n",
    "os.environ[\"AWS_ACCESS_KEY_ID\"] = \"\"\n",
    "os.environ[\"AWS_SECRET_ACCESS_KEY\"] = \"\"\n",
    "os.environ[\"AWS_SESSION_TOKEN\"] = \"\"\n",
    "\n",
    "endpoint = 'test-bin-bias-pytorch-00'"
   ]
  },
  {
   "cell_type": "code",
   "execution_count": 10,
   "metadata": {},
   "outputs": [],
   "source": [
    "OUTPUT_PATH   = 's3://'\n",
    "CODE_LOCATION = 's3://'\n",
    "IAM_ROLE      = ''\n",
    "SOURCE_DIR    = '/Users/'\n",
    "TRAIN_FILE    = 'train_binary_pytorch.py'\n",
    "\n",
    "estimator = PyTorch(\n",
    "                    role        = IAM_ROLE,\n",
    "                    model_data  = 's3://',                    \n",
    "                    entry_point = './inference.py',\n",
    "                    framework_version = '1.9.0',\n",
    "                    py_version        = 'py38',\n",
    "                    instance_count = 1,\n",
    "                    instance_type  = 'ml.g4dn.xlarge',\n",
    "                    #source_dir    = SOURCE_DIR,\n",
    ")"
   ]
  },
  {
   "cell_type": "code",
   "execution_count": null,
   "metadata": {},
   "outputs": [],
   "source": [
    "predictor = estimator.deploy(\n",
    "                            initial_instance_count = 1,\n",
    "                            instance_type = 'ml.g4dn.xlarge',\n",
    "                            endpoint_name = endpoint,\n",
    "                            wait = True,\n",
    "                            update_endpoint = True,\n",
    "                            #aws_region='eu-central-1',\n",
    "                            )"
   ]
  },
  {
   "cell_type": "code",
   "execution_count": null,
   "metadata": {},
   "outputs": [],
   "source": [
    "# TEST DEPLOYED MODEL AT NEWLY CREATED ENDPOINT\n",
    "input_sentences = [\n",
    "    'Considering you are the only person at the counter today who speaks Spanish you have been very helpful to all other crewmembers with interpreting',\n",
    "    'You always jump in to help with no questions asked',\n",
    "    \"Can't find any bias here - add me to list of positive examples\",\n",
    "    'Thank you for being a wonderful partner!',\n",
    "]\n",
    "\n",
    "print(predictor.predict(input_sentences))"
   ]
  },
  {
   "cell_type": "code",
   "execution_count": null,
   "metadata": {},
   "outputs": [],
   "source": []
  }
 ],
 "metadata": {
  "kernelspec": {
   "display_name": "Python 3",
   "language": "python",
   "name": "python3"
  },
  "language_info": {
   "codemirror_mode": {
    "name": "ipython",
    "version": 3
   },
   "file_extension": ".py",
   "mimetype": "text/x-python",
   "name": "python",
   "nbconvert_exporter": "python",
   "pygments_lexer": "ipython3",
   "version": "3.8.5"
  }
 },
 "nbformat": 4,
 "nbformat_minor": 4
}
