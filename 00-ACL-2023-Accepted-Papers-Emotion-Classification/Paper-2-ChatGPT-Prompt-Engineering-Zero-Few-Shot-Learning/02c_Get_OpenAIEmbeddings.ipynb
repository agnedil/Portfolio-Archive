{
 "cells": [
  {
   "cell_type": "markdown",
   "id": "4181b00f",
   "metadata": {},
   "source": [
    "# ChatGPT API: Get Embeddings"
   ]
  },
  {
   "cell_type": "markdown",
   "id": "975703f6",
   "metadata": {},
   "source": [
    "## The Association for Computational Linguistics\n",
    "## WASSA 2023 Shared Task on Multi-Label and Multi-Class Emotion Classification on Code-Mixed Text Messages\n",
    "See more details [here](https://codalab.lisn.upsaclay.fr/competitions/10864#learn_the_details)"
   ]
  },
  {
   "cell_type": "code",
   "execution_count": 141,
   "id": "83e22f70",
   "metadata": {},
   "outputs": [],
   "source": [
    "import openai\n",
    "import numpy as np\n",
    "import pandas as pd\n",
    "import sklearn\n",
    "import re, os\n",
    "import time\n",
    "import zipfile, pickle\n",
    "from typing import List\n",
    "from copy import deepcopy\n",
    "from sklearn.feature_extraction.text import CountVectorizer, TfidfVectorizer\n",
    "from sklearn.pipeline import Pipeline\n",
    "from xgboost import XGBClassifier\n",
    "from sklearn.svm import SVC\n",
    "from sklearn.linear_model import LogisticRegression, RidgeClassifier, RidgeClassifierCV\n",
    "from sklearn.naive_bayes import MultinomialNB\n",
    "from sklearn.ensemble import RandomForestClassifier\n",
    "from sklearn.metrics import classification_report, multilabel_confusion_matrix\n",
    "from openai.embeddings_utils import cosine_similarity\n",
    "from tqdm.autonotebook import tqdm\n",
    "import random\n",
    "import tiktoken\n",
    "import backoff\n",
    "tqdm.pandas()\n",
    "\n",
    "pd.set_option('display.max_columns', 100)\n",
    "pd.set_option('display.max_rows', 400)\n",
    "#os.path.join()"
   ]
  },
  {
   "cell_type": "code",
   "execution_count": 3,
   "id": "ae0395e8",
   "metadata": {},
   "outputs": [],
   "source": [
    "random_state = 47"
   ]
  },
  {
   "cell_type": "code",
   "execution_count": null,
   "id": "b7cbdfbb",
   "metadata": {},
   "outputs": [],
   "source": []
  },
  {
   "cell_type": "markdown",
   "id": "9dfc9a3f",
   "metadata": {},
   "source": [
    "# Load and Prepare Data"
   ]
  },
  {
   "cell_type": "code",
   "execution_count": 135,
   "id": "a1e5c24d",
   "metadata": {},
   "outputs": [
    {
     "name": "stdout",
     "output_type": "stream",
     "text": [
      "(9530, 4) (1191, 11) (1191, 1) (1191, 1)\n"
     ]
    }
   ],
   "source": [
    "file1    = 'data/mcec_train_translated.pkl'\n",
    "df_train = pd.read_pickle(file1)\n",
    "\n",
    "file2    = 'data/mcec_dev_translated.pkl'\n",
    "df_dev   = pd.read_pickle(file2)\n",
    "\n",
    "file3    = 'data/mcec_test.csv'\n",
    "df_test  = pd.read_csv(file3)\n",
    "\n",
    "file4    = 'data/sample_submission/predictions_MCEC.csv'\n",
    "sample_submission = pd.read_csv(file4)\n",
    "\n",
    "print(df_train.shape, df_dev.shape, df_test.shape, sample_submission.shape)"
   ]
  },
  {
   "cell_type": "code",
   "execution_count": null,
   "id": "a7e7a589",
   "metadata": {},
   "outputs": [],
   "source": []
  },
  {
   "cell_type": "markdown",
   "id": "0eddbe24",
   "metadata": {},
   "source": [
    "# OpenAI Embeddings"
   ]
  },
  {
   "cell_type": "code",
   "execution_count": null,
   "id": "542c2596",
   "metadata": {
    "scrolled": true
   },
   "outputs": [
    {
     "name": "stdout",
     "output_type": "stream",
     "text": [
      "Processing text 10. Time elapsed: 0.1216 min\n",
      "Processing text 20. Time elapsed: 0.2151 min\n",
      "Processing text 30. Time elapsed: 0.312 min\n",
      "Processing text 40. Time elapsed: 0.4083 min\n",
      "Processing text 50. Time elapsed: 0.5004 min\n",
      "Processing text 60. Time elapsed: 0.5927 min\n",
      "Processing text 70. Time elapsed: 0.6933 min\n",
      "Processing text 80. Time elapsed: 0.7939 min\n",
      "Processing text 90. Time elapsed: 0.9227 min\n",
      "Processing text 100. Time elapsed: 1.04 min\n",
      "Processing text 110. Time elapsed: 1.1781 min\n",
      "Processing text 120. Time elapsed: 1.3585 min\n",
      "Processing text 130. Time elapsed: 1.5407 min\n",
      "Processing text 140. Time elapsed: 1.6967 min\n",
      "Processing text 150. Time elapsed: 1.8289 min\n",
      "Processing text 160. Time elapsed: 1.9622 min\n",
      "Processing text 170. Time elapsed: 2.0962 min\n",
      "Processing text 180. Time elapsed: 2.2301 min\n",
      "Processing text 190. Time elapsed: 2.3756 min\n",
      "Processing text 200. Time elapsed: 2.5165 min\n",
      "Processing text 210. Time elapsed: 2.7212 min\n"
     ]
    }
   ],
   "source": [
    "def get_embedding(text, model=\"text-embedding-ada-002\"):\n",
    "    text = text.replace(\"\\n\", \" \")\n",
    "    return openai.Embedding.create(input = [text], model=model)['data'][0]['embedding']\n",
    "\n",
    "#df_train['embedding'] = df_train['text'].progress_apply(lambda x: get_embedding(x, model='text-embedding-ada-002'))\n",
    "start  = time.time()\n",
    "count1 = 0\n",
    "embeddings = dict()\n",
    "for t in df_train['text'].values:\n",
    "    if t in embeddings:\n",
    "        continue\n",
    "    try:\n",
    "        embeddings[t] = get_embedding(t)\n",
    "    except Exception as e:\n",
    "        print(f'\\nText: {t}. Error: {e}\\n')\n",
    "    \n",
    "    count1 += 1\n",
    "    if count1 % 10 == 0:\n",
    "        print(f'Processing text {count1}. Time elapsed: {round((time.time()-start)/60, 4)} min')\n",
    "        #with open('data/embeddings.pkl', 'wb') as f:\n",
    "        #    pickle.dump(embeddings, f, protocol=pickle.HIGHEST_PROTOCOL)                        \n",
    "        \n",
    "elapsed = (time.time() - start)/60\n",
    "print(f'\\nTime elapsed {round(elapsed, 4)} min')"
   ]
  },
  {
   "cell_type": "code",
   "execution_count": 160,
   "id": "af8784d5",
   "metadata": {},
   "outputs": [
    {
     "name": "stdout",
     "output_type": "stream",
     "text": [
      "text                0\n",
      "emotion             0\n",
      "translated_hi       5\n",
      "translated_ur       0\n",
      "gpt_embedding       0\n",
      "embedding        8803\n",
      "dtype: int64\n"
     ]
    }
   ],
   "source": [
    "df_train['gpt_embedding'] = df_train['text'].map( embeddings )\n",
    "print(df_train.isna().sum())\n",
    "file1    = 'data/mcec_train_translated.pkl'\n",
    "df_train.to_pickle(file1)"
   ]
  },
  {
   "cell_type": "code",
   "execution_count": 162,
   "id": "f35cb22e",
   "metadata": {},
   "outputs": [
    {
     "name": "stdout",
     "output_type": "stream",
     "text": [
      "text                         0\n",
      "emotion                      0\n",
      "target                       0\n",
      "gtp_translated               0\n",
      "translated_hi                0\n",
      "translated_ur                0\n",
      "text_clean                   0\n",
      "gpt_pred                     0\n",
      "gpt_pred_num                 0\n",
      "gpt_translated2              0\n",
      "gpt_translated2_corrected    0\n",
      "gpt_embedding                0\n",
      "dtype: int64\n"
     ]
    }
   ],
   "source": [
    "df_dev['gpt_embedding'] = df_dev['text'].map( embeddings )\n",
    "print(df_dev.isna().sum())\n",
    "file2    = 'data/mcec_dev_translated.pkl'\n",
    "df_dev.to_pickle(file2)"
   ]
  },
  {
   "cell_type": "code",
   "execution_count": 158,
   "id": "69c591e5",
   "metadata": {},
   "outputs": [
    {
     "name": "stdout",
     "output_type": "stream",
     "text": [
      "Text             0\n",
      "gpt_embedding    0\n",
      "dtype: int64\n"
     ]
    }
   ],
   "source": [
    "df_test['gpt_embedding'] = df_test['Text'].map( embeddings )\n",
    "print(df_test.isna().sum())\n",
    "file3    = 'data/mcec_test_embedded.pkl'\n",
    "df_test.to_pickle(file3)"
   ]
  },
  {
   "cell_type": "code",
   "execution_count": null,
   "id": "00bd8fdf",
   "metadata": {},
   "outputs": [],
   "source": []
  }
 ],
 "metadata": {
  "kernelspec": {
   "display_name": "Python 3 (ipykernel)",
   "language": "python",
   "name": "python3"
  },
  "language_info": {
   "codemirror_mode": {
    "name": "ipython",
    "version": 3
   },
   "file_extension": ".py",
   "mimetype": "text/x-python",
   "name": "python",
   "nbconvert_exporter": "python",
   "pygments_lexer": "ipython3",
   "version": "3.10.10"
  }
 },
 "nbformat": 4,
 "nbformat_minor": 5
}
