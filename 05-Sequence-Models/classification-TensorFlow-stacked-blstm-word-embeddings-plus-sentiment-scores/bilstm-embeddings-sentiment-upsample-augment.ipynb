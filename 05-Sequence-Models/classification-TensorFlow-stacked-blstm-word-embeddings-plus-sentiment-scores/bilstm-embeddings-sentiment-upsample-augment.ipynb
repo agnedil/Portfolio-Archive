{
 "cells": [
  {
   "cell_type": "markdown",
   "metadata": {
    "id": "IC5fxur85qCu"
   },
   "source": [
    "# STACKED BiLSTM WITH SPACY EMBEDDINGS / SENTIMENT / UPSAMPLING"
   ]
  },
  {
   "cell_type": "code",
   "execution_count": 2,
   "metadata": {
    "collapsed": true,
    "jupyter": {
     "outputs_hidden": true
    }
   },
   "outputs": [
    {
     "name": "stdout",
     "output_type": "stream",
     "text": [
      "Collecting matplotlib\n",
      "  Using cached matplotlib-3.4.3-cp37-cp37m-manylinux1_x86_64.whl (10.3 MB)\n",
      "Requirement already satisfied: pillow>=6.2.0 in /usr/local/lib/python3.7/site-packages (from matplotlib) (8.2.0)\n",
      "Collecting cycler>=0.10\n",
      "  Using cached cycler-0.10.0-py2.py3-none-any.whl (6.5 kB)\n",
      "Requirement already satisfied: pyparsing>=2.2.1 in /usr/local/lib/python3.7/site-packages (from matplotlib) (2.4.7)\n",
      "Collecting kiwisolver>=1.0.1\n",
      "  Using cached kiwisolver-1.3.2-cp37-cp37m-manylinux_2_5_x86_64.manylinux1_x86_64.whl (1.1 MB)\n",
      "Requirement already satisfied: python-dateutil>=2.7 in /usr/local/lib/python3.7/site-packages (from matplotlib) (2.8.1)\n",
      "Requirement already satisfied: numpy>=1.16 in /usr/local/lib/python3.7/site-packages (from matplotlib) (1.18.5)\n",
      "Requirement already satisfied: six in /usr/local/lib/python3.7/site-packages (from cycler>=0.10->matplotlib) (1.15.0)\n",
      "Installing collected packages: kiwisolver, cycler, matplotlib\n",
      "Successfully installed cycler-0.10.0 kiwisolver-1.3.2 matplotlib-3.4.3\n",
      "\u001b[33mWARNING: Running pip as root will break packages and permissions. You should install packages reliably by using venv: https://pip.pypa.io/warnings/venv\u001b[0m\n",
      "\u001b[33mWARNING: You are using pip version 21.1.1; however, version 21.2.4 is available.\n",
      "You should consider upgrading via the '/usr/local/bin/python3.7 -m pip install --upgrade pip' command.\u001b[0m\n",
      "Requirement already satisfied: pip in /usr/local/lib/python3.7/site-packages (21.1.1)\n",
      "Collecting pip\n",
      "  Using cached pip-21.2.4-py3-none-any.whl (1.6 MB)\n",
      "Requirement already satisfied: setuptools in /usr/local/lib/python3.7/site-packages (56.0.0)\n",
      "Collecting setuptools\n",
      "  Using cached setuptools-58.1.0-py3-none-any.whl (816 kB)\n",
      "Requirement already satisfied: wheel in /usr/local/lib/python3.7/site-packages (0.36.2)\n",
      "Collecting wheel\n",
      "  Using cached wheel-0.37.0-py2.py3-none-any.whl (35 kB)\n",
      "Installing collected packages: wheel, setuptools, pip\n",
      "  Attempting uninstall: wheel\n",
      "    Found existing installation: wheel 0.36.2\n",
      "    Uninstalling wheel-0.36.2:\n",
      "      Successfully uninstalled wheel-0.36.2\n",
      "  Attempting uninstall: setuptools\n",
      "    Found existing installation: setuptools 56.0.0\n",
      "    Uninstalling setuptools-56.0.0:\n",
      "      Successfully uninstalled setuptools-56.0.0\n",
      "  Attempting uninstall: pip\n",
      "    Found existing installation: pip 21.1.1\n",
      "    Uninstalling pip-21.1.1:\n",
      "      Successfully uninstalled pip-21.1.1\n",
      "Successfully installed pip-21.2.4 setuptools-58.1.0 wheel-0.37.0\n",
      "\u001b[33mWARNING: Running pip as root will break packages and permissions. You should install packages reliably by using venv: https://pip.pypa.io/warnings/venv\u001b[0m\n",
      "Collecting spacy\n",
      "  Using cached spacy-3.1.3-cp37-cp37m-manylinux_2_17_x86_64.manylinux2014_x86_64.whl (5.9 MB)\n",
      "Requirement already satisfied: numpy>=1.15.0 in /usr/local/lib/python3.7/site-packages (from spacy) (1.18.5)\n",
      "Requirement already satisfied: jinja2 in /usr/local/lib/python3.7/site-packages (from spacy) (2.11.3)\n",
      "Collecting tqdm<5.0.0,>=4.38.0\n",
      "  Using cached tqdm-4.62.3-py2.py3-none-any.whl (76 kB)\n",
      "Collecting typer<0.5.0,>=0.3.0\n",
      "  Using cached typer-0.4.0-py3-none-any.whl (27 kB)\n",
      "Collecting thinc<8.1.0,>=8.0.9\n",
      "  Using cached thinc-8.0.10-cp37-cp37m-manylinux_2_17_x86_64.manylinux2014_x86_64.whl (623 kB)\n",
      "Collecting preshed<3.1.0,>=3.0.2\n",
      "  Using cached preshed-3.0.5-cp37-cp37m-manylinux2014_x86_64.whl (126 kB)\n",
      "Collecting catalogue<2.1.0,>=2.0.6\n",
      "  Using cached catalogue-2.0.6-py3-none-any.whl (17 kB)\n",
      "Collecting wasabi<1.1.0,>=0.8.1\n",
      "  Using cached wasabi-0.8.2-py3-none-any.whl (23 kB)\n",
      "Collecting cymem<2.1.0,>=2.0.2\n",
      "  Using cached cymem-2.0.5-cp37-cp37m-manylinux2014_x86_64.whl (35 kB)\n",
      "Collecting murmurhash<1.1.0,>=0.28.0\n",
      "  Using cached murmurhash-1.0.5-cp37-cp37m-manylinux2014_x86_64.whl (20 kB)\n",
      "Collecting pydantic!=1.8,!=1.8.1,<1.9.0,>=1.7.4\n",
      "  Using cached pydantic-1.8.2-cp37-cp37m-manylinux2014_x86_64.whl (10.1 MB)\n",
      "Requirement already satisfied: setuptools in /usr/local/lib/python3.7/site-packages (from spacy) (58.1.0)\n",
      "Collecting spacy-legacy<3.1.0,>=3.0.8\n",
      "  Using cached spacy_legacy-3.0.8-py2.py3-none-any.whl (14 kB)\n",
      "Collecting blis<0.8.0,>=0.4.0\n",
      "  Using cached blis-0.7.4-cp37-cp37m-manylinux2014_x86_64.whl (9.8 MB)\n",
      "Collecting srsly<3.0.0,>=2.4.1\n",
      "  Using cached srsly-2.4.1-cp37-cp37m-manylinux2014_x86_64.whl (456 kB)\n",
      "Requirement already satisfied: typing-extensions<4.0.0.0,>=3.7.4 in /usr/local/lib/python3.7/site-packages (from spacy) (3.7.4.3)\n",
      "Collecting pathy>=0.3.5\n",
      "  Using cached pathy-0.6.0-py3-none-any.whl (42 kB)\n",
      "Requirement already satisfied: packaging>=20.0 in /usr/local/lib/python3.7/site-packages (from spacy) (20.9)\n",
      "Requirement already satisfied: requests<3.0.0,>=2.13.0 in /usr/local/lib/python3.7/site-packages (from spacy) (2.24.0)\n",
      "Requirement already satisfied: zipp>=0.5 in /usr/local/lib/python3.7/site-packages (from catalogue<2.1.0,>=2.0.6->spacy) (3.4.1)\n",
      "Requirement already satisfied: pyparsing>=2.0.2 in /usr/local/lib/python3.7/site-packages (from packaging>=20.0->spacy) (2.4.7)\n",
      "Collecting smart-open<6.0.0,>=5.0.0\n",
      "  Using cached smart_open-5.2.1-py3-none-any.whl (58 kB)\n",
      "Requirement already satisfied: chardet<4,>=3.0.2 in /usr/local/lib/python3.7/site-packages (from requests<3.0.0,>=2.13.0->spacy) (3.0.4)\n",
      "Requirement already satisfied: idna<3,>=2.5 in /usr/local/lib/python3.7/site-packages (from requests<3.0.0,>=2.13.0->spacy) (2.10)\n",
      "Requirement already satisfied: certifi>=2017.4.17 in /usr/local/lib/python3.7/site-packages (from requests<3.0.0,>=2.13.0->spacy) (2020.12.5)\n",
      "Requirement already satisfied: urllib3!=1.25.0,!=1.25.1,<1.26,>=1.21.1 in /usr/local/lib/python3.7/site-packages (from requests<3.0.0,>=2.13.0->spacy) (1.25.11)\n",
      "Collecting click<9.0.0,>=7.1.1\n",
      "  Using cached click-8.0.1-py3-none-any.whl (97 kB)\n",
      "Requirement already satisfied: importlib-metadata in /usr/local/lib/python3.7/site-packages (from click<9.0.0,>=7.1.1->typer<0.5.0,>=0.3.0->spacy) (4.0.1)\n",
      "Requirement already satisfied: MarkupSafe>=0.23 in /usr/local/lib/python3.7/site-packages (from jinja2->spacy) (1.1.1)\n",
      "Installing collected packages: murmurhash, cymem, click, catalogue, wasabi, typer, srsly, smart-open, pydantic, preshed, blis, tqdm, thinc, spacy-legacy, pathy, spacy\n",
      "Successfully installed blis-0.7.4 catalogue-2.0.6 click-8.0.1 cymem-2.0.5 murmurhash-1.0.5 pathy-0.6.0 preshed-3.0.5 pydantic-1.8.2 smart-open-5.2.1 spacy-3.1.3 spacy-legacy-3.0.8 srsly-2.4.1 thinc-8.0.10 tqdm-4.62.3 typer-0.4.0 wasabi-0.8.2\n",
      "\u001b[33mWARNING: Running pip as the 'root' user can result in broken permissions and conflicting behaviour with the system package manager. It is recommended to use a virtual environment instead: https://pip.pypa.io/warnings/venv\u001b[0m\n",
      "Collecting spacytextblob\n",
      "  Using cached spacytextblob-3.0.1-py3-none-any.whl (4.1 kB)\n",
      "Requirement already satisfied: spacy<4.0,>=3.0 in /usr/local/lib/python3.7/site-packages (from spacytextblob) (3.1.3)\n",
      "Collecting textblob<0.16.0,>=0.15.3\n",
      "  Using cached textblob-0.15.3-py2.py3-none-any.whl (636 kB)\n",
      "Requirement already satisfied: setuptools in /usr/local/lib/python3.7/site-packages (from spacy<4.0,>=3.0->spacytextblob) (58.1.0)\n",
      "Requirement already satisfied: typer<0.5.0,>=0.3.0 in /usr/local/lib/python3.7/site-packages (from spacy<4.0,>=3.0->spacytextblob) (0.4.0)\n",
      "Requirement already satisfied: catalogue<2.1.0,>=2.0.6 in /usr/local/lib/python3.7/site-packages (from spacy<4.0,>=3.0->spacytextblob) (2.0.6)\n",
      "Requirement already satisfied: preshed<3.1.0,>=3.0.2 in /usr/local/lib/python3.7/site-packages (from spacy<4.0,>=3.0->spacytextblob) (3.0.5)\n",
      "Requirement already satisfied: requests<3.0.0,>=2.13.0 in /usr/local/lib/python3.7/site-packages (from spacy<4.0,>=3.0->spacytextblob) (2.24.0)\n",
      "Requirement already satisfied: srsly<3.0.0,>=2.4.1 in /usr/local/lib/python3.7/site-packages (from spacy<4.0,>=3.0->spacytextblob) (2.4.1)\n",
      "Requirement already satisfied: pathy>=0.3.5 in /usr/local/lib/python3.7/site-packages (from spacy<4.0,>=3.0->spacytextblob) (0.6.0)\n",
      "Requirement already satisfied: typing-extensions<4.0.0.0,>=3.7.4 in /usr/local/lib/python3.7/site-packages (from spacy<4.0,>=3.0->spacytextblob) (3.7.4.3)\n",
      "Requirement already satisfied: spacy-legacy<3.1.0,>=3.0.8 in /usr/local/lib/python3.7/site-packages (from spacy<4.0,>=3.0->spacytextblob) (3.0.8)\n",
      "Requirement already satisfied: thinc<8.1.0,>=8.0.9 in /usr/local/lib/python3.7/site-packages (from spacy<4.0,>=3.0->spacytextblob) (8.0.10)\n",
      "Requirement already satisfied: tqdm<5.0.0,>=4.38.0 in /usr/local/lib/python3.7/site-packages (from spacy<4.0,>=3.0->spacytextblob) (4.62.3)\n",
      "Requirement already satisfied: jinja2 in /usr/local/lib/python3.7/site-packages (from spacy<4.0,>=3.0->spacytextblob) (2.11.3)\n",
      "Requirement already satisfied: pydantic!=1.8,!=1.8.1,<1.9.0,>=1.7.4 in /usr/local/lib/python3.7/site-packages (from spacy<4.0,>=3.0->spacytextblob) (1.8.2)\n",
      "Requirement already satisfied: packaging>=20.0 in /usr/local/lib/python3.7/site-packages (from spacy<4.0,>=3.0->spacytextblob) (20.9)\n",
      "Requirement already satisfied: numpy>=1.15.0 in /usr/local/lib/python3.7/site-packages (from spacy<4.0,>=3.0->spacytextblob) (1.18.5)\n",
      "Requirement already satisfied: wasabi<1.1.0,>=0.8.1 in /usr/local/lib/python3.7/site-packages (from spacy<4.0,>=3.0->spacytextblob) (0.8.2)\n",
      "Requirement already satisfied: cymem<2.1.0,>=2.0.2 in /usr/local/lib/python3.7/site-packages (from spacy<4.0,>=3.0->spacytextblob) (2.0.5)\n",
      "Requirement already satisfied: blis<0.8.0,>=0.4.0 in /usr/local/lib/python3.7/site-packages (from spacy<4.0,>=3.0->spacytextblob) (0.7.4)\n",
      "Requirement already satisfied: murmurhash<1.1.0,>=0.28.0 in /usr/local/lib/python3.7/site-packages (from spacy<4.0,>=3.0->spacytextblob) (1.0.5)\n",
      "Requirement already satisfied: zipp>=0.5 in /usr/local/lib/python3.7/site-packages (from catalogue<2.1.0,>=2.0.6->spacy<4.0,>=3.0->spacytextblob) (3.4.1)\n",
      "Requirement already satisfied: pyparsing>=2.0.2 in /usr/local/lib/python3.7/site-packages (from packaging>=20.0->spacy<4.0,>=3.0->spacytextblob) (2.4.7)\n",
      "Requirement already satisfied: smart-open<6.0.0,>=5.0.0 in /usr/local/lib/python3.7/site-packages (from pathy>=0.3.5->spacy<4.0,>=3.0->spacytextblob) (5.2.1)\n",
      "Requirement already satisfied: urllib3!=1.25.0,!=1.25.1,<1.26,>=1.21.1 in /usr/local/lib/python3.7/site-packages (from requests<3.0.0,>=2.13.0->spacy<4.0,>=3.0->spacytextblob) (1.25.11)\n",
      "Requirement already satisfied: chardet<4,>=3.0.2 in /usr/local/lib/python3.7/site-packages (from requests<3.0.0,>=2.13.0->spacy<4.0,>=3.0->spacytextblob) (3.0.4)\n",
      "Requirement already satisfied: certifi>=2017.4.17 in /usr/local/lib/python3.7/site-packages (from requests<3.0.0,>=2.13.0->spacy<4.0,>=3.0->spacytextblob) (2020.12.5)\n",
      "Requirement already satisfied: idna<3,>=2.5 in /usr/local/lib/python3.7/site-packages (from requests<3.0.0,>=2.13.0->spacy<4.0,>=3.0->spacytextblob) (2.10)\n",
      "Collecting nltk>=3.1\n",
      "  Using cached nltk-3.6.3-py3-none-any.whl (1.5 MB)\n",
      "Requirement already satisfied: click in /usr/local/lib/python3.7/site-packages (from nltk>=3.1->textblob<0.16.0,>=0.15.3->spacytextblob) (8.0.1)\n",
      "Requirement already satisfied: joblib in /usr/local/lib/python3.7/site-packages (from nltk>=3.1->textblob<0.16.0,>=0.15.3->spacytextblob) (1.0.1)\n",
      "Collecting regex\n",
      "  Using cached regex-2021.9.24-cp37-cp37m-manylinux_2_17_x86_64.manylinux2014_x86_64.whl (747 kB)\n",
      "Requirement already satisfied: importlib-metadata in /usr/local/lib/python3.7/site-packages (from click->nltk>=3.1->textblob<0.16.0,>=0.15.3->spacytextblob) (4.0.1)\n",
      "Requirement already satisfied: MarkupSafe>=0.23 in /usr/local/lib/python3.7/site-packages (from jinja2->spacy<4.0,>=3.0->spacytextblob) (1.1.1)\n",
      "Installing collected packages: regex, nltk, textblob, spacytextblob\n",
      "Successfully installed nltk-3.6.3 regex-2021.9.24 spacytextblob-3.0.1 textblob-0.15.3\n",
      "\u001b[33mWARNING: Running pip as the 'root' user can result in broken permissions and conflicting behaviour with the system package manager. It is recommended to use a virtual environment instead: https://pip.pypa.io/warnings/venv\u001b[0m\n",
      "2021-09-29 04:40:16.811025: W tensorflow/core/profiler/internal/smprofiler_timeline.cc:460] Initializing the SageMaker Profiler.\n",
      "2021-09-29 04:40:16.811154: W tensorflow/core/profiler/internal/smprofiler_timeline.cc:105] SageMaker Profiler is not enabled. The timeline writer thread will not be started, future recorded events will be dropped.\n",
      "2021-09-29 04:40:16.816794: I tensorflow/stream_executor/platform/default/dso_loader.cc:48] Successfully opened dynamic library libcudart.so.11.0\n",
      "2021-09-29 04:40:16.846830: W tensorflow/core/profiler/internal/smprofiler_timeline.cc:460] Initializing the SageMaker Profiler.\n",
      "Collecting en-core-web-lg==3.1.0\n",
      "  Downloading https://github.com/explosion/spacy-models/releases/download/en_core_web_lg-3.1.0/en_core_web_lg-3.1.0-py3-none-any.whl (777.1 MB)\n",
      "\u001b[K     |████████████████████████████████| 777.1 MB 8.2 kB/s  eta 0:00:016 |                                | 645 kB 5.1 MB/s eta 0:02:32     |█                               | 26.3 MB 5.1 MB/s eta 0:02:27     |████▋                           | 111.5 MB 106.2 MB/s eta 0:00:07     |█████▋                          | 136.6 MB 106.2 MB/s eta 0:00:07     |██████▉                         | 165.3 MB 64.0 MB/s eta 0:00:10     |███████▏                        | 173.7 MB 64.0 MB/s eta 0:00:10     |███████████████████████▎        | 565.4 MB 86.3 MB/s eta 0:00:03     |█████████████████████████████▏  | 707.4 MB 89.7 MB/s eta 0:00:01\n",
      "\u001b[?25hRequirement already satisfied: spacy<3.2.0,>=3.1.0 in /usr/local/lib/python3.7/site-packages (from en-core-web-lg==3.1.0) (3.1.3)\n",
      "Requirement already satisfied: spacy-legacy<3.1.0,>=3.0.8 in /usr/local/lib/python3.7/site-packages (from spacy<3.2.0,>=3.1.0->en-core-web-lg==3.1.0) (3.0.8)\n",
      "Requirement already satisfied: packaging>=20.0 in /usr/local/lib/python3.7/site-packages (from spacy<3.2.0,>=3.1.0->en-core-web-lg==3.1.0) (20.9)\n",
      "Requirement already satisfied: pathy>=0.3.5 in /usr/local/lib/python3.7/site-packages (from spacy<3.2.0,>=3.1.0->en-core-web-lg==3.1.0) (0.6.0)\n",
      "Requirement already satisfied: setuptools in /usr/local/lib/python3.7/site-packages (from spacy<3.2.0,>=3.1.0->en-core-web-lg==3.1.0) (58.1.0)\n",
      "Requirement already satisfied: preshed<3.1.0,>=3.0.2 in /usr/local/lib/python3.7/site-packages (from spacy<3.2.0,>=3.1.0->en-core-web-lg==3.1.0) (3.0.5)\n",
      "Requirement already satisfied: typer<0.5.0,>=0.3.0 in /usr/local/lib/python3.7/site-packages (from spacy<3.2.0,>=3.1.0->en-core-web-lg==3.1.0) (0.4.0)\n",
      "Requirement already satisfied: requests<3.0.0,>=2.13.0 in /usr/local/lib/python3.7/site-packages (from spacy<3.2.0,>=3.1.0->en-core-web-lg==3.1.0) (2.24.0)\n",
      "Requirement already satisfied: thinc<8.1.0,>=8.0.9 in /usr/local/lib/python3.7/site-packages (from spacy<3.2.0,>=3.1.0->en-core-web-lg==3.1.0) (8.0.10)\n",
      "Requirement already satisfied: pydantic!=1.8,!=1.8.1,<1.9.0,>=1.7.4 in /usr/local/lib/python3.7/site-packages (from spacy<3.2.0,>=3.1.0->en-core-web-lg==3.1.0) (1.8.2)\n",
      "Requirement already satisfied: typing-extensions<4.0.0.0,>=3.7.4 in /usr/local/lib/python3.7/site-packages (from spacy<3.2.0,>=3.1.0->en-core-web-lg==3.1.0) (3.7.4.3)\n",
      "Requirement already satisfied: blis<0.8.0,>=0.4.0 in /usr/local/lib/python3.7/site-packages (from spacy<3.2.0,>=3.1.0->en-core-web-lg==3.1.0) (0.7.4)\n",
      "Requirement already satisfied: jinja2 in /usr/local/lib/python3.7/site-packages (from spacy<3.2.0,>=3.1.0->en-core-web-lg==3.1.0) (2.11.3)\n",
      "Requirement already satisfied: murmurhash<1.1.0,>=0.28.0 in /usr/local/lib/python3.7/site-packages (from spacy<3.2.0,>=3.1.0->en-core-web-lg==3.1.0) (1.0.5)\n",
      "Requirement already satisfied: catalogue<2.1.0,>=2.0.6 in /usr/local/lib/python3.7/site-packages (from spacy<3.2.0,>=3.1.0->en-core-web-lg==3.1.0) (2.0.6)\n",
      "Requirement already satisfied: srsly<3.0.0,>=2.4.1 in /usr/local/lib/python3.7/site-packages (from spacy<3.2.0,>=3.1.0->en-core-web-lg==3.1.0) (2.4.1)\n",
      "Requirement already satisfied: tqdm<5.0.0,>=4.38.0 in /usr/local/lib/python3.7/site-packages (from spacy<3.2.0,>=3.1.0->en-core-web-lg==3.1.0) (4.62.3)\n",
      "Requirement already satisfied: numpy>=1.15.0 in /usr/local/lib/python3.7/site-packages (from spacy<3.2.0,>=3.1.0->en-core-web-lg==3.1.0) (1.18.5)\n",
      "Requirement already satisfied: wasabi<1.1.0,>=0.8.1 in /usr/local/lib/python3.7/site-packages (from spacy<3.2.0,>=3.1.0->en-core-web-lg==3.1.0) (0.8.2)\n",
      "Requirement already satisfied: cymem<2.1.0,>=2.0.2 in /usr/local/lib/python3.7/site-packages (from spacy<3.2.0,>=3.1.0->en-core-web-lg==3.1.0) (2.0.5)\n",
      "Requirement already satisfied: zipp>=0.5 in /usr/local/lib/python3.7/site-packages (from catalogue<2.1.0,>=2.0.6->spacy<3.2.0,>=3.1.0->en-core-web-lg==3.1.0) (3.4.1)\n",
      "Requirement already satisfied: pyparsing>=2.0.2 in /usr/local/lib/python3.7/site-packages (from packaging>=20.0->spacy<3.2.0,>=3.1.0->en-core-web-lg==3.1.0) (2.4.7)\n",
      "Requirement already satisfied: smart-open<6.0.0,>=5.0.0 in /usr/local/lib/python3.7/site-packages (from pathy>=0.3.5->spacy<3.2.0,>=3.1.0->en-core-web-lg==3.1.0) (5.2.1)\n",
      "Requirement already satisfied: certifi>=2017.4.17 in /usr/local/lib/python3.7/site-packages (from requests<3.0.0,>=2.13.0->spacy<3.2.0,>=3.1.0->en-core-web-lg==3.1.0) (2020.12.5)\n",
      "Requirement already satisfied: idna<3,>=2.5 in /usr/local/lib/python3.7/site-packages (from requests<3.0.0,>=2.13.0->spacy<3.2.0,>=3.1.0->en-core-web-lg==3.1.0) (2.10)\n",
      "Requirement already satisfied: chardet<4,>=3.0.2 in /usr/local/lib/python3.7/site-packages (from requests<3.0.0,>=2.13.0->spacy<3.2.0,>=3.1.0->en-core-web-lg==3.1.0) (3.0.4)\n",
      "Requirement already satisfied: urllib3!=1.25.0,!=1.25.1,<1.26,>=1.21.1 in /usr/local/lib/python3.7/site-packages (from requests<3.0.0,>=2.13.0->spacy<3.2.0,>=3.1.0->en-core-web-lg==3.1.0) (1.25.11)\n",
      "Requirement already satisfied: click<9.0.0,>=7.1.1 in /usr/local/lib/python3.7/site-packages (from typer<0.5.0,>=0.3.0->spacy<3.2.0,>=3.1.0->en-core-web-lg==3.1.0) (8.0.1)\n",
      "Requirement already satisfied: importlib-metadata in /usr/local/lib/python3.7/site-packages (from click<9.0.0,>=7.1.1->typer<0.5.0,>=0.3.0->spacy<3.2.0,>=3.1.0->en-core-web-lg==3.1.0) (4.0.1)\n",
      "Requirement already satisfied: MarkupSafe>=0.23 in /usr/local/lib/python3.7/site-packages (from jinja2->spacy<3.2.0,>=3.1.0->en-core-web-lg==3.1.0) (1.1.1)\n",
      "Installing collected packages: en-core-web-lg\n",
      "Successfully installed en-core-web-lg-3.1.0\n",
      "\u001b[33mWARNING: Running pip as the 'root' user can result in broken permissions and conflicting behaviour with the system package manager. It is recommended to use a virtual environment instead: https://pip.pypa.io/warnings/venv\u001b[0m\n",
      "\u001b[38;5;2m✔ Download and installation successful\u001b[0m\n",
      "You can now load the package via spacy.load('en_core_web_lg')\n",
      "Requirement already satisfied: nltk in /usr/local/lib/python3.7/site-packages (3.6.3)\n",
      "Requirement already satisfied: click in /usr/local/lib/python3.7/site-packages (from nltk) (8.0.1)\n",
      "Requirement already satisfied: regex in /usr/local/lib/python3.7/site-packages (from nltk) (2021.9.24)\n",
      "Requirement already satisfied: tqdm in /usr/local/lib/python3.7/site-packages (from nltk) (4.62.3)\n",
      "Requirement already satisfied: joblib in /usr/local/lib/python3.7/site-packages (from nltk) (1.0.1)\n",
      "Requirement already satisfied: importlib-metadata in /usr/local/lib/python3.7/site-packages (from click->nltk) (4.0.1)\n",
      "Requirement already satisfied: zipp>=0.5 in /usr/local/lib/python3.7/site-packages (from importlib-metadata->click->nltk) (3.4.1)\n",
      "Requirement already satisfied: typing-extensions>=3.6.4 in /usr/local/lib/python3.7/site-packages (from importlib-metadata->click->nltk) (3.7.4.3)\n",
      "\u001b[33mWARNING: Running pip as the 'root' user can result in broken permissions and conflicting behaviour with the system package manager. It is recommended to use a virtual environment instead: https://pip.pypa.io/warnings/venv\u001b[0m\n",
      "Collecting gensim\n",
      "  Using cached gensim-4.1.2-cp37-cp37m-manylinux_2_12_x86_64.manylinux2010_x86_64.whl (24.1 MB)\n",
      "Requirement already satisfied: scipy>=0.18.1 in /usr/local/lib/python3.7/site-packages (from gensim) (1.5.2)\n",
      "Requirement already satisfied: smart-open>=1.8.1 in /usr/local/lib/python3.7/site-packages (from gensim) (5.2.1)\n",
      "Requirement already satisfied: numpy>=1.17.0 in /usr/local/lib/python3.7/site-packages (from gensim) (1.18.5)\n",
      "Installing collected packages: gensim\n",
      "Successfully installed gensim-4.1.2\n",
      "\u001b[33mWARNING: Running pip as the 'root' user can result in broken permissions and conflicting behaviour with the system package manager. It is recommended to use a virtual environment instead: https://pip.pypa.io/warnings/venv\u001b[0m\n",
      "Collecting python-Levenshtein\n",
      "  Using cached python_Levenshtein-0.12.2-cp37-cp37m-linux_x86_64.whl\n",
      "Requirement already satisfied: setuptools in /usr/local/lib/python3.7/site-packages (from python-Levenshtein) (58.1.0)\n",
      "Installing collected packages: python-Levenshtein\n",
      "Successfully installed python-Levenshtein-0.12.2\n",
      "\u001b[33mWARNING: Running pip as the 'root' user can result in broken permissions and conflicting behaviour with the system package manager. It is recommended to use a virtual environment instead: https://pip.pypa.io/warnings/venv\u001b[0m\n",
      "Collecting ftfy\n",
      "  Using cached ftfy-6.0.3-py3-none-any.whl\n",
      "Requirement already satisfied: wcwidth in /usr/local/lib/python3.7/site-packages (from ftfy) (0.2.5)\n",
      "Installing collected packages: ftfy\n",
      "Successfully installed ftfy-6.0.3\n",
      "\u001b[33mWARNING: Running pip as the 'root' user can result in broken permissions and conflicting behaviour with the system package manager. It is recommended to use a virtual environment instead: https://pip.pypa.io/warnings/venv\u001b[0m\n",
      "Collecting emoji\n",
      "  Using cached emoji-1.5.0-py3-none-any.whl\n",
      "Installing collected packages: emoji\n",
      "Successfully installed emoji-1.5.0\n",
      "\u001b[33mWARNING: Running pip as the 'root' user can result in broken permissions and conflicting behaviour with the system package manager. It is recommended to use a virtual environment instead: https://pip.pypa.io/warnings/venv\u001b[0m\n",
      "Collecting pycld2\n",
      "  Using cached pycld2-0.41-cp37-cp37m-linux_x86_64.whl\n",
      "Installing collected packages: pycld2\n",
      "Successfully installed pycld2-0.41\n",
      "\u001b[33mWARNING: Running pip as the 'root' user can result in broken permissions and conflicting behaviour with the system package manager. It is recommended to use a virtual environment instead: https://pip.pypa.io/warnings/venv\u001b[0m\n",
      "Collecting xlrd\n",
      "  Using cached xlrd-2.0.1-py2.py3-none-any.whl (96 kB)\n",
      "Installing collected packages: xlrd\n",
      "Successfully installed xlrd-2.0.1\n",
      "\u001b[33mWARNING: Running pip as the 'root' user can result in broken permissions and conflicting behaviour with the system package manager. It is recommended to use a virtual environment instead: https://pip.pypa.io/warnings/venv\u001b[0m\n",
      "Collecting openpyxl\n",
      "  Using cached openpyxl-3.0.9-py2.py3-none-any.whl (242 kB)\n",
      "Collecting et-xmlfile\n",
      "  Using cached et_xmlfile-1.1.0-py3-none-any.whl (4.7 kB)\n",
      "Installing collected packages: et-xmlfile, openpyxl\n",
      "Successfully installed et-xmlfile-1.1.0 openpyxl-3.0.9\n",
      "\u001b[33mWARNING: Running pip as the 'root' user can result in broken permissions and conflicting behaviour with the system package manager. It is recommended to use a virtual environment instead: https://pip.pypa.io/warnings/venv\u001b[0m\n"
     ]
    }
   ],
   "source": [
    "!pip install matplotlib\n",
    "!pip install -U pip setuptools wheel\n",
    "!pip install -U spacy\n",
    "!pip install spacytextblob\n",
    "!python -m spacy download en_core_web_lg\n",
    "!pip install -U nltk\n",
    "!pip install gensim\n",
    "!pip install python-Levenshtein\n",
    "!pip install ftfy\n",
    "!pip install emoji\n",
    "!pip install pycld2\n",
    "!pip install xlrd\n",
    "!pip install openpyxl"
   ]
  },
  {
   "cell_type": "code",
   "execution_count": 3,
   "metadata": {
    "id": "OuJXgi6N5qCu"
   },
   "outputs": [],
   "source": [
    "import numpy as np\n",
    "import pandas as pd\n",
    "import string\n",
    "import itertools\n",
    "import time\n",
    "import os\n",
    "import re\n",
    "import sklearn\n",
    "import spacy\n",
    "import pickle\n",
    "import random\n",
    "import gc\n",
    "\n",
    "from sentiment import get_sentiment\n",
    "import gensim\n",
    "from gensim.models import Word2Vec\n",
    "from gensim.utils import simple_preprocess\n",
    "from gensim.models.keyedvectors import KeyedVectors\n",
    "from sklearn.metrics import classification_report, confusion_matrix\n",
    "from text_preprocess import clean_text, unfold_contractions, remove_emoji\n",
    "\n",
    "import tensorflow as tf\n",
    "from tensorflow import keras\n",
    "from tensorflow.keras.models import Model\n",
    "from tensorflow.keras import regularizers\n",
    "from tensorflow.keras.optimizers import Adam, RMSprop, Nadam, Adadelta, Adagrad, Adamax, Ftrl\n",
    "from tensorflow.keras.preprocessing.text import one_hot, Tokenizer\n",
    "from tensorflow.keras.preprocessing.sequence import pad_sequences\n",
    "from tensorflow.keras.layers import ( Activation, Dropout, Dense, Flatten, LSTM, Bidirectional, SpatialDropout1D,\n",
    "                                      RepeatVector, MaxPooling1D, GlobalMaxPooling1D, GlobalMaxPool1D, Embedding,\n",
    "                                      Input, Concatenate, Reshape, Flatten, Conv1D, GlobalAveragePooling1D )\n",
    "\n",
    "import matplotlib.pyplot as plt\n",
    "%matplotlib inline\n",
    "\n",
    "%load_ext autoreload\n",
    "%autoreload 2"
   ]
  },
  {
   "cell_type": "code",
   "execution_count": 4,
   "metadata": {
    "id": "pvex-fE75qCz"
   },
   "outputs": [],
   "source": [
    "def plot_confusion_matrix(cm, classes,                      \n",
    "                          title='CONFUSION MATRIX',\n",
    "                          cmap=plt.cm.PuBu):         # originally plt.cm.Blues; also good: BuPu,RdPu,PuRd,OrRd,Oranges\n",
    "    '''\n",
    "    Plot the confusion matrix    \n",
    "    '''\n",
    "    plt.rcParams['xtick.bottom'] = plt.rcParams['xtick.labelbottom'] = False\n",
    "    plt.rcParams['xtick.top'] = plt.rcParams['xtick.labeltop'] = True\n",
    "            \n",
    "    plt.figure(figsize=(4,4))\n",
    "    im = plt.imshow(cm, interpolation='nearest', cmap=cmap)\n",
    "    plt.title(title)\n",
    "    plt.colorbar(im, fraction=0.046, pad=0.05)\n",
    "    tick_marks = np.arange(len(classes))\n",
    "    plt.xticks(tick_marks, classes, rotation=90)\n",
    "    plt.yticks(tick_marks, classes)\n",
    "    \n",
    "    fmt = 'd'\n",
    "    thresh = cm.max() / 2.\n",
    "    for i, j in itertools.product(range(cm.shape[0]), range(cm.shape[1])):\n",
    "        plt.text(j, i, format(cm[i, j], fmt),\n",
    "                 horizontalalignment=\"center\",\n",
    "                 color=\"white\" if cm[i, j] > thresh else \"black\")\n",
    "\n",
    "    plt.ylabel('True labels')\n",
    "    plt.xlabel('Predicted labels')\n",
    "    plt.tight_layout()\n",
    "    plt.show()"
   ]
  },
  {
   "cell_type": "code",
   "execution_count": 5,
   "metadata": {},
   "outputs": [],
   "source": [
    "# DIFFERENT TEXT CLEANING METHODS\n",
    "def remove_digits(s):\n",
    "    s = s.translate( str.maketrans(string.digits, ' '*len(string.digits)) )\n",
    "    s = re.sub('\\s+', ' ', s)\n",
    "    return s.strip()\n",
    "\n",
    "def remove_punct(s):\n",
    "    '''\n",
    "    To avoid words being glued together, replace punct with spaces because\n",
    "    there are complex words with '-' separator,\n",
    "    and some people forget there should be a space after punctuation\n",
    "    '''\n",
    "    s = s.translate( str.maketrans(string.punctuation, ' '*len(string.punctuation) ) )\n",
    "    s = re.sub('\\s+', ' ', s)\n",
    "    return s.strip()\n",
    "\n",
    "def remove_non_alpha(s):\n",
    "    '''\n",
    "    To avoid words being glued together, replace punct with spaces because\n",
    "    there are complex words with '-' separator,\n",
    "    and some people forget there should be a space after punctuation\n",
    "    '''\n",
    "    s = s.translate( str.maketrans( punctuation, ' '*len(punctuation) ) )\n",
    "    s = s.translate( str.maketrans( string.digits, ' '*len(string.digits) ) )\n",
    "    s = re.sub('\\s+', ' ', s)\n",
    "    return s.strip()\n",
    "\n",
    "def remove_stopwords(s):\n",
    "    s = s.strip().split()\n",
    "    s = [ w.strip() for w in s if remove_non_alpha(w).lower() not in sw ]\n",
    "    return ' '.join(s)\n",
    "\n",
    "def mask_entities(s):\n",
    "    '''\n",
    "        Replace simplified named entities with their type,\n",
    "        if a word is named entity; otherwise, lemmatize word\n",
    "    '''    \n",
    "    ent_types = { \n",
    "                    'number':       ['CARDINAL', 'ORDINAL'],\n",
    "                    'place':        ['LOC'],\n",
    "                    'name':         ['PERSON'],\n",
    "                    'percent':      ['PERCENT'],\n",
    "                    'money':        ['MONEY'],\n",
    "                    'organization': ['ORG'],\n",
    "                }\n",
    "        \n",
    "    # replace entities w/generic names, lemmatize\n",
    "    out = []\n",
    "    s = nlp(s)\n",
    "    for t in s:\n",
    "        ent_type = ''\n",
    "        for key in ent_types:\n",
    "            if t.ent_type_ in ent_types[key]:\n",
    "                ent_type = key\n",
    "                break\n",
    "        if ent_type:\n",
    "            out.append( ent_type )\n",
    "        else:\n",
    "            out.append( t.lemma_ )\n",
    "        \n",
    "    # remove entity masks repeated several times in a row\n",
    "    stack = ['',]\n",
    "    for item in out:\n",
    "        if item == stack[-1]:\n",
    "            continue\n",
    "        stack.append( item )        \n",
    "        \n",
    "    return ' '.join( stack[1:] )\n",
    "\n",
    "\n",
    "def convert_emoticons(s):\n",
    "    return s.replace(':)', 'happy_face').replace(':D', 'happy_face')\n",
    "\n",
    "punctuation = ''.join([c for c in string.punctuation if c not in \"'!?\"])\n",
    "sw = [ 'a', 'an', 'the' ]"
   ]
  },
  {
   "cell_type": "code",
   "execution_count": 6,
   "metadata": {},
   "outputs": [],
   "source": [
    "def dedupe( df1, df2, col_ ):\n",
    "    '''\n",
    "        df2 should not contain annything from df1 in column col_\n",
    "        (e.g. df2 = smaller test set OR smaller set for 1 category)\n",
    "        to preserve smaller df2, duplicates are deleted from df1\n",
    "    '''\n",
    "    original_length = df1.shape[0]\n",
    "    df2_sents = df2[col_].values\n",
    "    df1 = df1[ ~df1[col_].isin(df2_sents) ]\n",
    "    print( f'\\tDropping {original_length - df1.shape[0]} duplicates')\n",
    "    return df1, df2\n",
    "\n",
    "\n",
    "def upsample( df_, to_oversample_ ):\n",
    "    '''\n",
    "        Upsample df_ by to_oversample_ more samples excluding re-evaluation data\n",
    "    '''    \n",
    "    # EXCLUDE RE-EVALUATED DATA FROM OVERSMPLING IF IT'S PRESENT    \n",
    "    if 'source' in df_.columns:\n",
    "        df_to_oversample = df_[ df_['source'] != 'reeval_2021' ]\n",
    "        print( '\\tData shape for this category without re-eval:', df_to_oversample.shape )\n",
    "    else:\n",
    "        df_to_oversample = df_\n",
    "        \n",
    "    # OVERSAMPLE AND CONCAT W/ORIGINAL DF_\n",
    "    replace = False\n",
    "    if len(df_to_oversample) < to_oversample_:\n",
    "        replace = True        \n",
    "\n",
    "    df_upsampled = df_to_oversample.sample( n=to_oversample_, replace=replace )\n",
    "    df_          = pd.concat([ df_, df_upsampled ])\n",
    "        \n",
    "    return df_.sample( frac=1 )\n",
    "\n",
    "\n",
    "def intersect_length( df1, df2, col_ ):\n",
    "    '''\n",
    "        Return counts of the same records in df1 and df2 in column col_    \n",
    "    '''    \n",
    "    len1 = len([ i for i in df1[col_].values if i in df2[col_].values ])\n",
    "    len2 = len([ i for i in df2[col_].values if i in df1[col_].values ])\n",
    "    return len1, len2"
   ]
  },
  {
   "cell_type": "markdown",
   "metadata": {},
   "source": [
    "## 1. Prepare data"
   ]
  },
  {
   "cell_type": "markdown",
   "metadata": {},
   "source": [
    "### Read, augment, and deduplicate data"
   ]
  },
  {
   "cell_type": "code",
   "execution_count": null,
   "metadata": {},
   "outputs": [],
   "source": [
    "file = ''\n",
    "df   = pd.read_csv( file , sep='\\t', encoding='utf-8' )\n",
    "\n",
    "print( 'Data size:', df.shape )\n",
    "print( 'Unique sentences:', len( df['sentence'].unique() ), '\\n' )\n",
    "print( 'Missing values:\\n\\n', df.isna().sum(), sep='' )\n",
    "df.head(2)"
   ]
  },
  {
   "cell_type": "code",
   "execution_count": null,
   "metadata": {},
   "outputs": [],
   "source": [
    "# wrong labels\n",
    "convert_2unk = [ ]\n",
    "len(convert_2unk)\n",
    "df.loc[ df['sentence'].isin(convert_2unk), 'label'] = 'unk'\n",
    "df[ df['sentence'].isin(convert_2unk)][['sentence', 'label']]"
   ]
  },
  {
   "cell_type": "code",
   "execution_count": 9,
   "metadata": {},
   "outputs": [
    {
     "data": {
      "text/plain": [
       "15"
      ]
     },
     "execution_count": 9,
     "metadata": {},
     "output_type": "execute_result"
    }
   ],
   "source": [
    "nlp = spacy.load(\"en_core_web_lg\")\n",
    "#nlp.remove_pipe('parser')\n",
    "ml_categories = [ ]\n",
    "len( ml_categories )"
   ]
  },
  {
   "cell_type": "code",
   "execution_count": 10,
   "metadata": {},
   "outputs": [],
   "source": [
    "#df = df[ df['is_subtle'] == 0 ]\n",
    "df = df[ df['label'].isin( ml_categories ) ]\n",
    "df = df.drop(['award_reason', 'is_group_award', 'group_award_id', 'keywords'], axis=1)\n",
    "\n",
    "df['target'] = df['label'].apply( lambda x: 0 if x == 'unk' else 1 )"
   ]
  },
  {
   "cell_type": "code",
   "execution_count": 11,
   "metadata": {},
   "outputs": [
    {
     "data": {
      "text/plain": [
       "1    5911\n",
       "0    4932\n",
       "Name: target, dtype: int64"
      ]
     },
     "execution_count": 11,
     "metadata": {},
     "output_type": "execute_result"
    }
   ],
   "source": [
    "df['target'].value_counts()"
   ]
  },
  {
   "cell_type": "code",
   "execution_count": 12,
   "metadata": {},
   "outputs": [
    {
     "name": "stdout",
     "output_type": "stream",
     "text": [
      "(10843, 11)\n",
      "\tDropping 6 duplicates\n",
      "(10837, 11)\n"
     ]
    }
   ],
   "source": [
    "# ONLY FOR BINARY CLASSIFICATION - DEDUPE BETWEEN CATEGORIES, FAVOR CATEGORY 1 (my class)\n",
    "print(df.shape)\n",
    "df1 = df[ df['target'] == 1 ].copy()\n",
    "df0 = df[ df['target'] == 0 ].copy()\n",
    "df0, df1 = dedupe( df0, df1, 'sentence' )\n",
    "df = pd.concat([ df0, df1 ]).copy().sample(frac=1).reset_index(drop=True)\n",
    "print(df.shape)"
   ]
  },
  {
   "cell_type": "code",
   "execution_count": 13,
   "metadata": {},
   "outputs": [
    {
     "name": "stdout",
     "output_type": "stream",
     "text": [
      "(10837, 11)\n",
      "\tDropping 90 duplicates\n",
      "\tDropping 33 duplicates\n",
      "\tDropping 69 duplicates\n",
      "(10645, 11)\n"
     ]
    }
   ],
   "source": [
    "# ONLY FOR BINARY CLASSIFICATION - DEDUPE TRAIN / VAL / TEST SETS. FAVOR TEST, THEN VAL SET\n",
    "print(df.shape)\n",
    "df_train = df[ df['subset'] == 'train' ].copy()\n",
    "df_val   = df[ df['subset'] == 'val' ].copy()\n",
    "df_test  = df[ df['subset'] == 'test' ].copy()\n",
    "\n",
    "df_train, df_test = dedupe( df_train, df_test, 'sentence' )\n",
    "df_val, df_test   = dedupe( df_val, df_test, 'sentence' )\n",
    "df_train, df_val  = dedupe( df_train, df_val, 'sentence' )\n",
    "df = pd.concat([ df_train, df_val, df_test ]).copy().sample(frac=1).reset_index(drop=True)\n",
    "print(df.shape)"
   ]
  },
  {
   "cell_type": "code",
   "execution_count": 14,
   "metadata": {},
   "outputs": [
    {
     "name": "stdout",
     "output_type": "stream",
     "text": [
      "1 99\n",
      "2 370\n"
     ]
    }
   ],
   "source": [
    "# MIN NUM WORDS FOR SENT AND MESSAGE\n",
    "df['length1'] = df['sentence'].apply( lambda x: len(x.split()) )\n",
    "df['length2'] = df['award_text'].apply( lambda x: len(x.split()) )\n",
    "print(df['length1'].min(), df['length1'].max())\n",
    "print(df['length2'].min(), df['length2'].max())"
   ]
  },
  {
   "cell_type": "markdown",
   "metadata": {},
   "source": [
    "### Preprocess text"
   ]
  },
  {
   "cell_type": "code",
   "execution_count": 15,
   "metadata": {},
   "outputs": [],
   "source": [
    "# MERGE SENTENCE AND AWARD TEXT, IF NEEDED\n",
    "#df['sentence2'] = df['sentence'] + ' ' + df['award_text']\n",
    "#df.head()"
   ]
  },
  {
   "cell_type": "code",
   "execution_count": 16,
   "metadata": {},
   "outputs": [
    {
     "name": "stdout",
     "output_type": "stream",
     "text": [
      "Cleaning text ... Done!\n",
      "Unique cased words (uncleaned): 20193\n",
      "Unique uncased words:           7065\n",
      "Maximum sentence length: 91 \n",
      "\n"
     ]
    }
   ],
   "source": [
    "print( 'Cleaning text ...', end=' ')\n",
    "df['sentence_lower'] = df['sentence'].apply( convert_emoticons )\n",
    "df['sentence_lower'] = df['sentence_lower'].apply( lambda x: remove_emoji(x, to_text=True) )\n",
    "df['sentence_lower'] = df['sentence_lower'].apply( unfold_contractions )\n",
    "df['sentence_lower'] = df['sentence_lower'].apply( mask_entities )\n",
    "df['sentence_lower'] = df['sentence_lower'].apply( lambda x: x.lower() )\n",
    "df['sentence_lower'] = df['sentence_lower'].apply( remove_non_alpha )\n",
    "df['sentence_lower'] = df['sentence_lower'].apply( remove_stopwords )\n",
    "print('Done!')\n",
    "\n",
    "# UNIQUE WORDS (very approx. because punctuation may be included)\n",
    "num_words_cased   = len(set(' '.join(df['sentence'].tolist()).split()))\n",
    "num_words_uncased = len(set(' '.join(df['sentence_lower'].tolist()).split()))\n",
    "print( 'Unique cased words (uncleaned):' , num_words_cased )\n",
    "print( 'Unique uncased words:          ' , num_words_uncased )\n",
    "\n",
    "df['length'] = df['sentence_lower'].apply( lambda x: len(x.split()) )\n",
    "maxlen       = df['length'].max()\n",
    "print( 'Maximum sentence length:', maxlen, '\\n' )"
   ]
  },
  {
   "cell_type": "markdown",
   "metadata": {},
   "source": [
    "### Augment data"
   ]
  },
  {
   "cell_type": "code",
   "execution_count": null,
   "metadata": {},
   "outputs": [],
   "source": [
    "# LOAD SENTENCES FROM ANNOTATION GUIDELINES\n",
    "print( 'Augmenting data....')\n",
    "df_aug = pd.read_excel( '',\n",
    "                        sheet_name='guidelines',\n",
    "                        engine='openpyxl',\n",
    "                      )\n",
    "df_aug = df_aug.dropna()\n",
    "\n",
    "df_aug['sentence_lower'] = df_aug['sentence'].apply( clean_text )\n",
    "df_aug['sentence_lower'] = df_aug['sentence_lower'].apply( convert_emoticons )\n",
    "df_aug['sentence_lower'] = df_aug['sentence_lower'].apply( lambda x: remove_emoji(x, to_text=True) )\n",
    "df_aug['sentence_lower'] = df_aug['sentence_lower'].apply( unfold_contractions )\n",
    "df_aug['sentence_lower'] = df_aug['sentence_lower'].apply( mask_entities )\n",
    "df_aug['sentence_lower'] = df_aug['sentence_lower'].apply( lambda x: x.lower() )\n",
    "df_aug['sentence_lower'] = df_aug['sentence_lower'].apply( remove_non_alpha )\n",
    "df_aug['sentence_lower'] = df_aug['sentence_lower'].apply( remove_stopwords )\n",
    "\n",
    "# VERIFY LENGTH IS NOT 0\n",
    "df_aug['length'] = df_aug['sentence_lower'].apply( lambda x: len(x.split()))\n",
    "print( 'Lengths of sentences:', sorted( list(set(df_aug['length'].values))) )\n",
    "\n",
    "# ADD COLUMNS TO MERGE WITH MAIN DF\n",
    "df_aug['target'] = 1\n",
    "df_aug['subset'] = 'train'\n",
    "df_aug = df_aug[['sentence_lower', 'target', 'label', 'subset', 'source']]\n",
    "for col in df.columns:\n",
    "    if col not in df_aug.columns:\n",
    "        df_aug[col] = np.nan\n",
    "print( 'Shape of augmented data:', df_aug.shape )\n",
    "df_aug.head()"
   ]
  },
  {
   "cell_type": "code",
   "execution_count": 19,
   "metadata": {},
   "outputs": [
    {
     "data": {
      "text/plain": [
       "(605, 15)"
      ]
     },
     "execution_count": 19,
     "metadata": {},
     "output_type": "execute_result"
    }
   ],
   "source": [
    "already_in_test_set = [ i for i in df_aug['sentence_lower'].tolist() if i in df[ df['subset'] == 'test' ]['sentence_lower'].tolist() ]\n",
    "df_aug = df_aug[ ~df_aug['sentence_lower'].isin( already_in_test_set )]\n",
    "df_aug.shape"
   ]
  },
  {
   "cell_type": "code",
   "execution_count": null,
   "metadata": {},
   "outputs": [],
   "source": [
    "# LOAD KEYWORDS FROM CURRENT PATTERNS MODEL\n",
    "kw = pd.read_excel( 'data/kw.xlsx', engine='openpyxl' )\n",
    "\n",
    "kw['sentence_lower'] = kw['keyword'].apply( clean_text )\n",
    "kw['sentence_lower'] = kw['sentence_lower'].apply( convert_emoticons )\n",
    "kw['sentence_lower'] = kw['sentence_lower'].apply( lambda x: remove_emoji(x, to_text=True) )\n",
    "kw['sentence_lower'] = kw['sentence_lower'].apply( unfold_contractions )\n",
    "kw['sentence_lower'] = kw['sentence_lower'].apply( mask_entities )\n",
    "kw['sentence_lower'] = kw['sentence_lower'].apply( lambda x: x.lower() )\n",
    "kw['sentence_lower'] = kw['sentence_lower'].apply( remove_non_alpha )\n",
    "kw['sentence_lower'] = kw['sentence_lower'].apply( remove_stopwords )\n",
    "\n",
    "# VERIFY LENGTH IS NOT 0\n",
    "kw['length'] = kw['sentence_lower'].apply( lambda x: len(x.split()))\n",
    "print( 'Lengths of sentences:', sorted( list(set(kw['length'].values))) )\n",
    "\n",
    "# ADD COLUMNS TO MERGE WITH MAIN DF\n",
    "kw['target'] = 1\n",
    "kw['source'] = 'guide'\n",
    "kw['subset'] = 'train'\n",
    "kw = kw[['sentence_lower', 'target', 'label', 'subset', 'source']]\n",
    "for col in df.columns:\n",
    "    if col not in kw.columns:\n",
    "        kw[col] = np.nan\n",
    "#kw = kw[ df.columns ]\n",
    "print( 'Shape of keywords data:', kw.shape )\n",
    "kw.head()"
   ]
  },
  {
   "cell_type": "code",
   "execution_count": 21,
   "metadata": {},
   "outputs": [
    {
     "name": "stdout",
     "output_type": "stream",
     "text": [
      "(10645, 15)\n",
      "(11583, 15)\n"
     ]
    }
   ],
   "source": [
    "# MERGE KEYWORDS WITH MAIN DF\n",
    "print( df.shape )\n",
    "df = pd.concat([ df, kw, df_aug ])\n",
    "df = df.sample( frac=1 )\n",
    "print( df.shape )"
   ]
  },
  {
   "cell_type": "markdown",
   "metadata": {},
   "source": [
    "### Get sentiment"
   ]
  },
  {
   "cell_type": "code",
   "execution_count": 22,
   "metadata": {},
   "outputs": [],
   "source": [
    "# FUNCTIONS TO CONVERT TEXT TO SENTIMENTS\n",
    "def convert_sentiment( l ):\n",
    "    '''\n",
    "        Convert list of sentiment scores into 20 bins to build embeddings later    \n",
    "    '''\n",
    "    return [ round(i*10) + 10 for i in l ]\n",
    "\n",
    "\n",
    "def infer_sentiment(s, pos=False):\n",
    "    '''\n",
    "    Get sentiment scores as a dict only for select POS, and 0 score for rest    \n",
    "    '''\n",
    "    #pos_included = ['ADJ', 'NOUN', 'PROPN', 'INTJ']\n",
    "    pos_included = ['ADJ', 'NOUN', 'PROPN', 'VERB', 'ADV', 'INTJ']\n",
    "    s = nlp(s)\n",
    "    sentiments = get_sentiment(s)    \n",
    "    if pos:\n",
    "        for t in s:\n",
    "            if t.text.lower() in sentiments and t.pos_ not in pos_included:\n",
    "                sentiments[ t.text ] = None\n",
    "            if t.lemma_.lower() in sentiments and t.pos_ not in pos_included:\n",
    "                sentiments[ t.lemma_ ] = None                \n",
    "    sentiments = {k: v for k,v in sentiments.items() if v}\n",
    "    \n",
    "    res = []\n",
    "    for t in s:\n",
    "        res.append( sentiments.get( t.text.lower(), 0.0 ) )\n",
    "                \n",
    "    return convert_sentiment( res )"
   ]
  },
  {
   "cell_type": "code",
   "execution_count": 23,
   "metadata": {},
   "outputs": [],
   "source": [
    "df['sentiment_feats'] = df['sentence_lower'].apply( lambda x: infer_sentiment(x, pos=True) )"
   ]
  },
  {
   "cell_type": "code",
   "execution_count": 24,
   "metadata": {},
   "outputs": [
    {
     "data": {
      "text/plain": [
       "[0, 1, 2, 3, 4, 5, 6, 7, 8, 9, 10, 11, 12, 13, 14, 15, 16, 17, 18, 19, 20]"
      ]
     },
     "execution_count": 24,
     "metadata": {},
     "output_type": "execute_result"
    }
   ],
   "source": [
    "# VERIFY BINS\n",
    "list(set([ i for sublist in df[ 'sentiment_feats' ].tolist() for i in sublist ]))"
   ]
  },
  {
   "cell_type": "code",
   "execution_count": 25,
   "metadata": {
    "scrolled": true
   },
   "outputs": [
    {
     "data": {
      "text/plain": [
       "['you work long hour each week to lead team in design process all while manage significant customer and internal expectation',\n",
       " [10, 9, 9, 11, 10, 10, 10, 12, 14, 10, 16, 10, 10, 10, 11, 12, 11, 10, 9, 15]]"
      ]
     },
     "execution_count": 25,
     "metadata": {},
     "output_type": "execute_result"
    }
   ],
   "source": [
    "# VERIFY A SENTENCE\n",
    "i = 26\n",
    "df[['sentence_lower', 'sentiment_feats']].values.tolist()[i]"
   ]
  },
  {
   "cell_type": "markdown",
   "metadata": {},
   "source": [
    "### Upsample categories for more even representation\n",
    "AVOID UPSAMPLING FROM DATA WITH SOURCE `reeval_2021` (IT'S NOT ARBITRATED)"
   ]
  },
  {
   "cell_type": "code",
   "execution_count": 26,
   "metadata": {},
   "outputs": [
    {
     "name": "stdout",
     "output_type": "stream",
     "text": [
      "(10665, 16) (918, 16) (4414, 16)\n"
     ]
    }
   ],
   "source": [
    "# SEPARATE DF_TRAIN, DF_TEST, AND UNK\n",
    "df_train     = df[ df['subset'].isin(['train', 'val']) ]\n",
    "df_test      = df[ df['subset']=='test' ].copy()\n",
    "df_train_unk = df_train[ df_train['label']=='unk' ].copy()\n",
    "print( df_train.shape, df_test.shape, df_train_unk.shape )"
   ]
  },
  {
   "cell_type": "code",
   "execution_count": 29,
   "metadata": {},
   "outputs": [
    {
     "name": "stdout",
     "output_type": "stream",
     "text": [
      "[(1734, 16), (999, 16), (890, 16)]\n"
     ]
    }
   ],
   "source": [
    "# SEPARATE CATS NOT TO UPSAMPLE\n",
    "cats_not_to_upsample = ['imposing_work', 'undesired_work', 'superiority']\n",
    "not_upsampled_dfs = []\n",
    "for cat in cats_not_to_upsample:\n",
    "    not_upsampled_dfs.append( df_train[ df_train['label']==cat ].copy() )\n",
    "print([ df_.shape for df_ in not_upsampled_dfs] )"
   ]
  },
  {
   "cell_type": "code",
   "execution_count": null,
   "metadata": {},
   "outputs": [],
   "source": [
    "# UPSAMPLE CATS TO UPSAMPLE\n",
    "cats_to_upsample = [ ]\n",
    "max_size = 900\n",
    "upsampled_dfs = []\n",
    "for cat in cats_to_upsample:\n",
    "    df_temp = df_train[ df_train['label']==cat ].copy()\n",
    "    to_upsample = max_size - df_temp.shape[0]\n",
    "    print( f'Upsampling category {cat} from shape {df_temp.shape} to 1000 data points' )\n",
    "    upsampled_dfs.append( upsample( df_temp, to_upsample ) )\n",
    "print([ df_.shape for df_ in upsampled_dfs] )"
   ]
  },
  {
   "cell_type": "code",
   "execution_count": 31,
   "metadata": {},
   "outputs": [
    {
     "name": "stdout",
     "output_type": "stream",
     "text": [
      "Upsampled bias categories: (13523, 16)\n",
      "Upsampling unk by 9109 rows\n",
      "\tData shape for this category without re-eval: (3858, 16)\n",
      "Final size of unk: (13523, 16)\n",
      "Final size of df_train: (27046, 16)\n"
     ]
    }
   ],
   "source": [
    "# MERGE myclass CATS, UPSAMPLE UNK, MERGE EVERYTHING TOGETHER\n",
    "df_train_myclass = pd.concat( not_upsampled_dfs + upsampled_dfs )\n",
    "df_train_myclass = df_train_myclass.sample( frac=1 )\n",
    "print( 'Upsampled myclass categories:', df_train_myclass.shape )\n",
    "\n",
    "to_upsample = df_train_myclass.shape[0] - df_train_unk.shape[0]\n",
    "if to_upsample > 0:\n",
    "    print( f'Upsampling unk by {to_upsample} rows')\n",
    "    df_train_unk = upsample( df_train_unk.copy(), to_upsample )\n",
    "print('Final size of unk:', df_train_unk.shape)\n",
    "\n",
    "df_train = pd.concat([ df_train_myclass.copy(), df_train_unk.copy() ])\n",
    "for i in range(10):\n",
    "    df_train = df_train.sample(frac=1).reset_index(drop=True)\n",
    "print( 'Final size of df_train:', df_train.shape )"
   ]
  },
  {
   "cell_type": "code",
   "execution_count": 34,
   "metadata": {},
   "outputs": [],
   "source": [
    "# REMOVE TEMP DFs\n",
    "del not_upsampled_dfs\n",
    "del upsampled_dfs\n",
    "del df_train_unk\n",
    "del df_train_myclass\n",
    "del df"
   ]
  },
  {
   "cell_type": "markdown",
   "metadata": {},
   "source": [
    "### Train-test split and tokenization"
   ]
  },
  {
   "cell_type": "code",
   "execution_count": 35,
   "metadata": {},
   "outputs": [
    {
     "name": "stdout",
     "output_type": "stream",
     "text": [
      "Shape of train / test data: (27046,) (918,) (27046,) (918,) (27046,) (918,)\n"
     ]
    }
   ],
   "source": [
    "X_train = df_train['sentence_lower'].values\n",
    "y_train = df_train['target'].values\n",
    "X_test  = df_test['sentence_lower'].values\n",
    "y_test  = df_test['target'].values\n",
    "\n",
    "X_train_sentim = df_train['sentiment_feats'].values\n",
    "X_test_sentim  = df_test['sentiment_feats'].values\n",
    "\n",
    "X_train, X_train_sentim, y_train = sklearn.utils.shuffle( X_train, X_train_sentim, y_train )\n",
    "X_test, X_test_sentim, y_test    = sklearn.utils.shuffle( X_test, X_test_sentim, y_test    )\n",
    "\n",
    "print( 'Shape of train / test data:', X_train.shape, X_test.shape, X_train_sentim.shape, X_test_sentim.shape,\n",
    "       y_train.shape, y_test.shape )"
   ]
  },
  {
   "cell_type": "code",
   "execution_count": 37,
   "metadata": {},
   "outputs": [
    {
     "name": "stdout",
     "output_type": "stream",
     "text": [
      "maxlen = 91\n"
     ]
    },
    {
     "data": {
      "text/plain": [
       "1    13523\n",
       "0    13523\n",
       "Name: target, dtype: int64"
      ]
     },
     "execution_count": 37,
     "metadata": {},
     "output_type": "execute_result"
    }
   ],
   "source": [
    "#del df_train, df_val, df_test, df\n",
    "print('maxlen =', maxlen)\n",
    "df_train['target'].value_counts()"
   ]
  },
  {
   "cell_type": "code",
   "execution_count": 38,
   "metadata": {
    "colab": {
     "base_uri": "https://localhost:8080/"
    },
    "id": "YNBeza7_5qDl",
    "outputId": "e08431af-311f-42d2-a595-8d02495a42fd"
   },
   "outputs": [
    {
     "name": "stdout",
     "output_type": "stream",
     "text": [
      "Vocabulary size: 6871\n",
      "Total num elements in X_train: 27046; elements with lengths not matching: 82\n",
      "Total num elements in X_test: 918; elements with lengths not matching: 3\n"
     ]
    }
   ],
   "source": [
    "# KERAS TOKENIZER\n",
    "tokenizer = Tokenizer(\n",
    "                       #num_words=11000,           # sentence + award_text\n",
    "                       num_words=7000,             # sentence\n",
    "                       lower=True,\n",
    "                       oov_token='oov',\n",
    "                       filters='\"#$%&()*+,-./:;<=>@[\\\\]^_`{|}~\\t\\n',        # removed '!' and '?'\n",
    "                     )\n",
    "tokenizer.fit_on_texts(X_train)\n",
    "\n",
    "X_train = tokenizer.texts_to_sequences(X_train)\n",
    "X_test  = tokenizer.texts_to_sequences(X_test)\n",
    "\n",
    "vocab_size = len(tokenizer.word_index) + 1\n",
    "print('Vocabulary size:', vocab_size)\n",
    "\n",
    "# CHECK IF NUM TOKENS AND NUM SENTIMENT SCORES IS THE SAME\n",
    "count = 0\n",
    "for i,j in zip(X_train, X_train_sentim):\n",
    "    if len(i) != len(j):\n",
    "        count += 1        \n",
    "print(f'Total num elements in X_train: {len(X_train)}; elements with lengths not matching: {count}')\n",
    "\n",
    "count = 0\n",
    "for i,j in zip(X_test, X_test_sentim):\n",
    "    if len(i) != len(j):\n",
    "        count += 1        \n",
    "print(f'Total num elements in X_test: {len(X_test)}; elements with lengths not matching: {count}')\n",
    "\n",
    "X_train        = pad_sequences(X_train, padding='post', truncating='post', maxlen=maxlen)\n",
    "X_test         = pad_sequences(X_test, padding='post', truncating='post', maxlen=maxlen)\n",
    "X_train_sentim = pad_sequences(X_train_sentim, padding='post', truncating='post', maxlen=maxlen)\n",
    "X_test_sentim  = pad_sequences(X_test_sentim, padding='post', truncating='post', maxlen=maxlen)"
   ]
  },
  {
   "cell_type": "code",
   "execution_count": 39,
   "metadata": {},
   "outputs": [],
   "source": [
    "time_stamp = time.strftime(\"%Y%m%dT%H%M\")"
   ]
  },
  {
   "cell_type": "code",
   "execution_count": 40,
   "metadata": {},
   "outputs": [
    {
     "name": "stdout",
     "output_type": "stream",
     "text": [
      "Current tokenizer time stamp: 20210929T0446\n"
     ]
    }
   ],
   "source": [
    "print('Current tokenizer time stamp:', time_stamp)\n",
    "wdir          = 'data/'\n",
    "use_sentiment = True\n",
    "\n",
    "tokenizer_filepath = wdir + f'{time_stamp}_tokenizer.pkl'\n",
    "X_train_filepath   = wdir + f'{time_stamp}_X_train.pkl'\n",
    "y_train_filepath   = wdir + f'{time_stamp}_y_train.pkl'\n",
    "X_test_filepath    = wdir + f'{time_stamp}_X_test.pkl'\n",
    "y_test_filepath    = wdir + f'{time_stamp}_y_test.pkl'\n",
    "\n",
    "with open(tokenizer_filepath, 'wb') as f:\n",
    "    pickle.dump( tokenizer, f, protocol=pickle.HIGHEST_PROTOCOL )\n",
    "    \n",
    "with open(X_train_filepath, 'wb') as f:\n",
    "    pickle.dump( X_train, f, protocol=pickle.HIGHEST_PROTOCOL )\n",
    "    \n",
    "with open(y_train_filepath, 'wb') as f:\n",
    "    pickle.dump( y_train, f, protocol=pickle.HIGHEST_PROTOCOL )\n",
    "    \n",
    "with open(X_test_filepath, 'wb') as f:\n",
    "    pickle.dump( X_test, f, protocol=pickle.HIGHEST_PROTOCOL )\n",
    "        \n",
    "with open(y_test_filepath, 'wb') as f:\n",
    "    pickle.dump( y_test, f, protocol=pickle.HIGHEST_PROTOCOL )\n",
    "\n",
    "\n",
    "if use_sentiment:\n",
    "    X_train_sentim_filepath = wdir + f'{time_stamp}_X_train_sentim.pkl'\n",
    "    X_test_sentim_filepath  = wdir + f'{time_stamp}_X_test_sentim.pkl'\n",
    "\n",
    "    with open(X_train_sentim_filepath, 'wb') as f:\n",
    "        pickle.dump( X_train_sentim, f, protocol=pickle.HIGHEST_PROTOCOL )\n",
    "\n",
    "    with open(X_test_sentim_filepath, 'wb') as f:\n",
    "        pickle.dump( X_test_sentim, f, protocol=pickle.HIGHEST_PROTOCOL )"
   ]
  },
  {
   "cell_type": "markdown",
   "metadata": {},
   "source": [
    "vocab_size = 6814\n",
    "\n",
    "with open('data/tokenizer.pkl', 'rb') as f:\n",
    "    tokenizer = pickle.load( f )\n",
    "    \n",
    "with open('data/X_train.pkl', 'rb') as f:\n",
    "    X_train = pickle.load( f )\n",
    "    \n",
    "with open('data/X_train_sentim.pkl', 'rb') as f:\n",
    "    X_train_sentim = pickle.load( f )\n",
    "    \n",
    "with open('data/y_train.pkl', 'rb') as f:\n",
    "    y_train = pickle.load( f )\n",
    "    \n",
    "with open('data/X_test.pkl', 'rb') as f:\n",
    "    X_test = pickle.load( f )\n",
    "    \n",
    "with open('data/X_test_sentime.pkl', 'rb') as f:\n",
    "    X_test_sentim = pickle.load( f )\n",
    "        \n",
    "with open('data/y_test.pkl', 'rb') as f:\n",
    "    y_test = pickle.load( f )"
   ]
  },
  {
   "cell_type": "code",
   "execution_count": 41,
   "metadata": {
    "id": "3ellNOuZ5qDp"
   },
   "outputs": [],
   "source": [
    "def get_embeddings(switch):\n",
    "    \n",
    "    print( 'Building embedding matrix ...', end=' ' )\n",
    "    if switch == 0:\n",
    "\n",
    "        # WORD2VEC\n",
    "        word_vectors = KeyedVectors.load_word2vec_format('./pretrained_embeddings/GoogleNews-vectors-negative300.bin', binary=True)\n",
    "\n",
    "        EMBED_SIZE=300\n",
    "        embedding_matrix = np.zeros((vocab_size, EMBED_SIZE))\n",
    "        for word, i in tokenizer.word_index.items():\n",
    "            #if i>=NUM_WORDS:\n",
    "            #    continue\n",
    "            try:\n",
    "                embedding_vector = word_vectors[word]\n",
    "                embedding_matrix[i] = embedding_vector\n",
    "            except KeyError:\n",
    "                embedding_matrix[i]=np.random.normal(0,np.sqrt(0.25),EMBED_SIZE)\n",
    "\n",
    "        del(word_vectors)\n",
    "        print( 'using Word2vec!')\n",
    "\n",
    "    elif switch == 1:\n",
    "\n",
    "        # GLOVE\n",
    "        embeddings_dictionary = dict()\n",
    "        EMBED_SIZE = 300\n",
    "\n",
    "        glove_file = open('pretrained_embeddings/glove.6B.300d.txt', encoding=\"utf8\")\n",
    "\n",
    "        for line in glove_file:\n",
    "            records = line.split()\n",
    "            word = records[0]\n",
    "            vector_dimensions = np.asarray(records[1:], dtype='float32')\n",
    "            embeddings_dictionary[word] = vector_dimensions\n",
    "        glove_file.close()\n",
    "\n",
    "        embedding_matrix = np.zeros((vocab_size, EMBED_SIZE))\n",
    "        for word, index in tokenizer.word_index.items():\n",
    "            embedding_vector = embeddings_dictionary.get(word)\n",
    "            if embedding_vector is not None:\n",
    "                embedding_matrix[index] = embedding_vector\n",
    "\n",
    "        print( 'using Glove!')\n",
    "\n",
    "    elif switch == 2:\n",
    "\n",
    "        # spaCy    \n",
    "        EMBED_SIZE = len(nlp('The').vector)\n",
    "        embedding_matrix = np.zeros((vocab_size, EMBED_SIZE))\n",
    "        for word, index in tokenizer.word_index.items():\n",
    "            embedding_matrix[index] = nlp(word).vector\n",
    "\n",
    "        print( 'using spaCy!')\n",
    "\n",
    "    else:\n",
    "        print('Cannot proceed without embeddings')\n",
    "        unknown_variable\n",
    "        \n",
    "    return embedding_matrix, EMBED_SIZE\n",
    "\n",
    "\n",
    "# Embeddings Switch: 0 - Word2vec, 1 - Glove, 2 - Spacy\n",
    "switch_dict = { 0: 'Word2vec',\n",
    "                1: 'Glove',\n",
    "                2: 'spaCy',\n",
    "              }"
   ]
  },
  {
   "cell_type": "code",
   "execution_count": 42,
   "metadata": {},
   "outputs": [
    {
     "name": "stdout",
     "output_type": "stream",
     "text": [
      "Building embedding matrix ... using spaCy!\n"
     ]
    }
   ],
   "source": [
    "switch = 2\n",
    "embedding_matrix, EMBED_SIZE = get_embeddings( 2 )\n",
    "#embedding_matrix_glove, _    = get_embeddings( 1 )\n",
    "#embedding_matrix_w2vec, _    = get_embeddings( 0 )"
   ]
  },
  {
   "cell_type": "code",
   "execution_count": null,
   "metadata": {},
   "outputs": [],
   "source": []
  },
  {
   "cell_type": "markdown",
   "metadata": {},
   "source": [
    "## 2. Train model"
   ]
  },
  {
   "cell_type": "code",
   "execution_count": 43,
   "metadata": {},
   "outputs": [],
   "source": [
    "seed_value = 43\n",
    "#import os\n",
    "#os.environ['PYTHONHASHSEED'] = str(seed_value)\n",
    "random.seed( seed_value )\n",
    "np.random.seed( seed_value )\n",
    "tf.random.set_seed( seed_value )"
   ]
  },
  {
   "cell_type": "code",
   "execution_count": 46,
   "metadata": {},
   "outputs": [
    {
     "data": {
      "text/plain": [
       "91"
      ]
     },
     "execution_count": 46,
     "metadata": {},
     "output_type": "execute_result"
    }
   ],
   "source": [
    "maxlen"
   ]
  },
  {
   "cell_type": "code",
   "execution_count": 63,
   "metadata": {
    "scrolled": true
   },
   "outputs": [
    {
     "name": "stdout",
     "output_type": "stream",
     "text": [
      "\n",
      "Embeddings=spaCy, LR=0.001, batch_size=8, dropout=0.6&0.6, units=150, optimizer=Adam\n",
      "Timestamp: 20210929T0633\n",
      "Model: \"functional_9\"\n",
      "__________________________________________________________________________________________________\n",
      "Layer (type)                    Output Shape         Param #     Connected to                     \n",
      "==================================================================================================\n",
      "input_9 (InputLayer)            [(None, 91)]         0                                            \n",
      "__________________________________________________________________________________________________\n",
      "input_10 (InputLayer)           [(None, 91)]         0                                            \n",
      "__________________________________________________________________________________________________\n",
      "embedding_9 (Embedding)         (None, 91, 300)      2061300     input_9[0][0]                    \n",
      "__________________________________________________________________________________________________\n",
      "embedding_8 (Embedding)         (None, 91, 300)      6600        input_10[0][0]                   \n",
      "__________________________________________________________________________________________________\n",
      "concatenate_4 (Concatenate)     (None, 182, 300)     0           embedding_9[0][0]                \n",
      "                                                                 embedding_8[0][0]                \n",
      "__________________________________________________________________________________________________\n",
      "bidirectional_8 (Bidirectional) (None, 182, 300)     541200      concatenate_4[0][0]              \n",
      "__________________________________________________________________________________________________\n",
      "bidirectional_9 (Bidirectional) (None, 150)          225600      bidirectional_8[0][0]            \n",
      "__________________________________________________________________________________________________\n",
      "dense_4 (Dense)                 (None, 1)            151         bidirectional_9[0][0]            \n",
      "==================================================================================================\n",
      "Total params: 2,834,851\n",
      "Trainable params: 773,551\n",
      "Non-trainable params: 2,061,300\n",
      "__________________________________________________________________________________________________\n",
      "Epoch 1/21\n",
      "2705/2705 - 76s - loss: 0.5389 - accuracy: 0.7243 - val_loss: 0.4426 - val_accuracy: 0.7880\n",
      "Epoch 2/21\n",
      "2705/2705 - 76s - loss: 0.4395 - accuracy: 0.7983 - val_loss: 0.3627 - val_accuracy: 0.8403\n",
      "Epoch 3/21\n",
      "2705/2705 - 76s - loss: 0.3850 - accuracy: 0.8253 - val_loss: 0.3321 - val_accuracy: 0.8649\n",
      "Epoch 4/21\n",
      "2705/2705 - 76s - loss: 0.3368 - accuracy: 0.8540 - val_loss: 0.2835 - val_accuracy: 0.8874\n",
      "Epoch 5/21\n",
      "2705/2705 - 75s - loss: 0.2998 - accuracy: 0.8759 - val_loss: 0.2538 - val_accuracy: 0.9044\n",
      "Epoch 6/21\n",
      "2705/2705 - 76s - loss: 0.2670 - accuracy: 0.8897 - val_loss: 0.2437 - val_accuracy: 0.9153\n",
      "Epoch 7/21\n",
      "2705/2705 - 76s - loss: 0.2415 - accuracy: 0.9034 - val_loss: 0.2250 - val_accuracy: 0.9196\n",
      "Epoch 8/21\n",
      "2705/2705 - 76s - loss: 0.2250 - accuracy: 0.9101 - val_loss: 0.2225 - val_accuracy: 0.9214\n",
      "Epoch 9/21\n",
      "2705/2705 - 76s - loss: 0.2063 - accuracy: 0.9193 - val_loss: 0.2139 - val_accuracy: 0.9281\n",
      "Epoch 10/21\n",
      "2705/2705 - 76s - loss: 0.1937 - accuracy: 0.9231 - val_loss: 0.2192 - val_accuracy: 0.9277\n",
      "Epoch 11/21\n",
      "2705/2705 - 76s - loss: 0.1831 - accuracy: 0.9293 - val_loss: 0.2036 - val_accuracy: 0.9322\n",
      "Epoch 12/21\n",
      "2705/2705 - 76s - loss: 0.1707 - accuracy: 0.9355 - val_loss: 0.2138 - val_accuracy: 0.9333\n",
      "Epoch 13/21\n",
      "2705/2705 - 76s - loss: 0.1664 - accuracy: 0.9368 - val_loss: 0.1985 - val_accuracy: 0.9375\n",
      "Epoch 14/21\n",
      "2705/2705 - 76s - loss: 0.1575 - accuracy: 0.9378 - val_loss: 0.2074 - val_accuracy: 0.9372\n",
      "Epoch 15/21\n",
      "\n",
      "Epoch 00015: ReduceLROnPlateau reducing learning rate to 0.00020000000949949026.\n",
      "2705/2705 - 76s - loss: 0.1546 - accuracy: 0.9417 - val_loss: 0.2151 - val_accuracy: 0.9336\n",
      "Epoch 16/21\n",
      "2705/2705 - 76s - loss: 0.1259 - accuracy: 0.9514 - val_loss: 0.2108 - val_accuracy: 0.9405\n",
      "Epoch 17/21\n",
      "\n",
      "Epoch 00017: ReduceLROnPlateau reducing learning rate to 5e-05.\n",
      "2705/2705 - 76s - loss: 0.1188 - accuracy: 0.9551 - val_loss: 0.2105 - val_accuracy: 0.9427\n",
      "Epoch 18/21\n",
      "2705/2705 - 76s - loss: 0.1093 - accuracy: 0.9594 - val_loss: 0.2085 - val_accuracy: 0.9438\n",
      "Epoch 00018: early stopping\n",
      "29/29 [==============================] - 0s 13ms/step - loss: 0.9308 - accuracy: 0.7593\n",
      "Test Score: 0.9308299422264099\n",
      "Test Accuracy: 0.7592592835426331\n",
      "\n"
     ]
    },
    {
     "data": {
      "image/png": "[encoded data removed]",
      "text/plain": [
       "<Figure size 432x288 with 1 Axes>"
      ]
     },
     "metadata": {
      "needs_background": "light"
     },
     "output_type": "display_data"
    },
    {
     "data": {
      "image/png": "[encoded data removed]",
      "text/plain": [
       "<Figure size 432x288 with 1 Axes>"
      ]
     },
     "metadata": {
      "needs_background": "light"
     },
     "output_type": "display_data"
    },
    {
     "name": "stdout",
     "output_type": "stream",
     "text": [
      "              precision    recall  f1-score   support\n",
      "\n",
      "           0     0.7446    0.8371    0.7881       491\n",
      "           1     0.7814    0.6698    0.7213       427\n",
      "\n",
      "    accuracy                         0.7593       918\n",
      "   macro avg     0.7630    0.7534    0.7547       918\n",
      "weighted avg     0.7617    0.7593    0.7570       918\n",
      "\n"
     ]
    },
    {
     "data": {
      "text/plain": [
       "<Figure size 432x288 with 0 Axes>"
      ]
     },
     "metadata": {},
     "output_type": "display_data"
    },
    {
     "data": {
      "image/png": "[encoded data removed]",
      "text/plain": [
       "<Figure size 288x288 with 2 Axes>"
      ]
     },
     "metadata": {
      "needs_background": "light"
     },
     "output_type": "display_data"
    },
    {
     "name": "stdout",
     "output_type": "stream",
     "text": [
      "======================================================================\n"
     ]
    }
   ],
   "source": [
    "epochs         = 21\n",
    "num_sentims    = 21\n",
    "learning_rates = [ 1e-3, ]\n",
    "batch_sizes    = [ 8, ]\n",
    "dropouts1      = [ 0.6, ]\n",
    "dropouts2      = [ 0.6, ]\n",
    "units_list     = [ 150, ]\n",
    "optimizers     = [ Adam, ]        # Adam, RMSprop, Nadam, Adadelta, Adagrad, Adamax, Ftrl\n",
    "emb            = switch_dict[ switch ]\n",
    "\n",
    "all_combinations = list(itertools.product(*[learning_rates, batch_sizes, dropouts1, dropouts2, units_list, optimizers]))\n",
    "\n",
    "time_stamp1 = time.strftime(\"%Y%m%dT%H%M\") \n",
    "file_name   = f'logs/log_{time_stamp1}.txt'\n",
    "wdir        = 'ckps/current/'\n",
    "\n",
    "with open( file_name, 'w', encoding='utf-8' ) as f:\n",
    "    experiment_name = 'NO UPSAMPLING, N0 SENTIMENT, 1 BiLSTM\\n'\n",
    "    f.write( experiment_name )\n",
    "    for learning_rate, batch_size, dropout1, dropout2, units, optimizer in all_combinations:\n",
    "        \n",
    "        time_stamp = time.strftime(\"%Y%m%dT%H%M\") \n",
    "        optimizer_name = optimizer.__module__.split('.')[-1].capitalize()\n",
    "        params = f'\\nEmbeddings={emb}, LR={learning_rate}, batch_size={batch_size}, dropout={dropout1}&{dropout2}, units={units}, optimizer={optimizer_name}'\n",
    "        print( params )\n",
    "        print( 'Timestamp:', time_stamp)\n",
    "        f.write( params + '\\nTimestamp: ' + time_stamp + '\\n' )\n",
    "\n",
    "        inputs_1         = Input(shape=(maxlen,))\n",
    "        inputs_2         = Input(shape=(maxlen,))\n",
    "        embed_sentiment  = Embedding( num_sentims+1, EMBED_SIZE, )(inputs_2)\n",
    "        embed_spacy      = Embedding( vocab_size, EMBED_SIZE, weights=[embedding_matrix], trainable=False )(inputs_1)   \n",
    "        concat           = Concatenate(axis=1)([                                                                          \n",
    "                                                 embed_spacy,\n",
    "                                                 embed_sentiment,            \n",
    "                                                 #embed_glove,\n",
    "                                                 #embed_w2vec,                                                 \n",
    "                                             ])\n",
    "        x               = Bidirectional(LSTM( units, dropout=dropout1, return_sequences=True ))(concat)\n",
    "        x               = Bidirectional(LSTM( units//2, dropout=dropout2, return_sequences=False ))(x)\n",
    "        dense_layer     = Dense(1, activation='sigmoid')(x)\n",
    "        model           = Model(inputs=[inputs_1,inputs_2 ], outputs=dense_layer) \n",
    "        model.summary()\n",
    "\n",
    "\n",
    "        model.compile( loss='binary_crossentropy',\n",
    "                       #optimizer=optimizer( lr=learning_rate,\n",
    "                       #                     rho=0.8,\n",
    "                       #                     momentum=0.0,\n",
    "                       #                     centered=False,),\n",
    "                       optimizer=optimizer( lr=learning_rate, ),\n",
    "                       metrics=['accuracy'] )\n",
    "\n",
    "        early_stop = tf.keras.callbacks.EarlyStopping(\n",
    "                                                       monitor='val_loss',\n",
    "                                                       patience=5,\n",
    "                                                       restore_best_weights=False,\n",
    "                                                       verbose=2,\n",
    "                                                     )\n",
    "        \n",
    "        reduce_lr  = tf.keras.callbacks.ReduceLROnPlateau( \n",
    "                                                           monitor=\"val_loss\",                                                           \n",
    "                                                           patience=2,\n",
    "                                                           factor=0.2,\n",
    "                                                           min_lr=5e-5,\n",
    "                                                           verbose=2,\n",
    "                                                         )\n",
    "        \n",
    "        filepath   = wdir + time_stamp + '-epoch{epoch:02d}-val_accu_{val_accuracy:.2f}-val_loss_{val_loss:.2f}.hdf5'\n",
    "        checkpoint = tf.keras.callbacks.ModelCheckpoint( \n",
    "                                                            filepath,\n",
    "                                                            verbose=0,\n",
    "                                                          )\n",
    "        \n",
    "        history = model.fit( [X_train, X_train_sentim],\n",
    "                             y_train,\n",
    "                             batch_size=batch_size,\n",
    "                             epochs=epochs,\n",
    "                             verbose=2,\n",
    "                             validation_split=0.2,\n",
    "                             callbacks=[ early_stop, reduce_lr, checkpoint ]# \n",
    "                            )\n",
    "\n",
    "        score = model.evaluate([X_test, X_test_sentim], y_test, verbose=1)\n",
    "        test_results = f'Test Score: {score[0]}\\nTest Accuracy: {score[1]}\\n'\n",
    "        print( test_results )\n",
    "        f.write( test_results + '\\n')\n",
    "\n",
    "        plt.plot(history.history['accuracy'])\n",
    "        plt.plot(history.history['val_accuracy'])\n",
    "\n",
    "        plt.title('model accuracy')\n",
    "        plt.ylabel('accuracy')\n",
    "        plt.xlabel('epoch')\n",
    "        plt.legend(['train','test'], loc='upper left')\n",
    "        plt.show()\n",
    "\n",
    "        plt.plot(history.history['loss'])\n",
    "        plt.plot(history.history['val_loss'])\n",
    "\n",
    "        plt.title('model loss')\n",
    "        plt.ylabel('loss')\n",
    "        plt.xlabel('epoch')\n",
    "        plt.legend(['train','test'], loc='upper left')\n",
    "        plt.show()\n",
    "\n",
    "        # PREDICT ALL\n",
    "        predictions = model.predict([X_test, X_test_sentim])\n",
    "        predictions = np.round( predictions )\n",
    "        clf_report = classification_report(y_test, predictions, digits=4)\n",
    "        print( clf_report )\n",
    "        f.write( clf_report + '\\n')\n",
    "\n",
    "        # PRINT THE CONFUSION MATRIX\n",
    "        labels = list( range( len(np.unique(y_test))))\n",
    "        cm = confusion_matrix(y_test, predictions)\n",
    "        np.set_printoptions(precision=2)\n",
    "        plt.figure()\n",
    "        plot_confusion_matrix(cm, classes=labels)\n",
    "        \n",
    "        record_end = '='*70\n",
    "        print( record_end )\n",
    "        f.write( record_end + '\\n')\n"
   ]
  },
  {
   "cell_type": "code",
   "execution_count": 64,
   "metadata": {},
   "outputs": [
    {
     "name": "stdout",
     "output_type": "stream",
     "text": [
      "7/7 [==============================] - 0s 22ms/step - loss: 1.2605 - accuracy: 0.7050\n",
      "Test Score: 1.2604914903640747\n",
      "Test Accuracy: 0.7049999833106995\n",
      "\n",
      "              precision    recall  f1-score   support\n",
      "\n",
      "           0     0.6815    0.8519    0.7572       108\n",
      "           1     0.7538    0.5326    0.6242        92\n",
      "\n",
      "    accuracy                         0.7050       200\n",
      "   macro avg     0.7177    0.6922    0.6907       200\n",
      "weighted avg     0.7148    0.7050    0.6960       200\n",
      "\n"
     ]
    },
    {
     "data": {
      "text/plain": [
       "<Figure size 432x288 with 0 Axes>"
      ]
     },
     "metadata": {},
     "output_type": "display_data"
    },
    {
     "data": {
      "image/png": "[encoded data removed]",
      "text/plain": [
       "<Figure size 288x288 with 2 Axes>"
      ]
     },
     "metadata": {
      "needs_background": "light"
     },
     "output_type": "display_data"
    }
   ],
   "source": [
    "score = model.evaluate([X_testb, X_test_sentimb], y_testb, verbose=1)\n",
    "test_results = f'Test Score: {score[0]}\\nTest Accuracy: {score[1]}\\n'\n",
    "print( test_results )\n",
    "\n",
    "predictions = model.predict([X_testb, X_test_sentimb])\n",
    "predictions = np.round( predictions )\n",
    "clf_report = classification_report(y_testb, predictions, digits=4)\n",
    "print( clf_report )\n",
    "\n",
    "# PRINT THE CONFUSION MATRIX\n",
    "labels = list( range( len(np.unique(y_testb))))\n",
    "cm = confusion_matrix(y_testb, predictions)\n",
    "np.set_printoptions(precision=2)\n",
    "plt.figure()\n",
    "plot_confusion_matrix(cm, classes=labels)"
   ]
  },
  {
   "cell_type": "code",
   "execution_count": null,
   "metadata": {},
   "outputs": [],
   "source": [
    "gc.collect()"
   ]
  },
  {
   "cell_type": "code",
   "execution_count": null,
   "metadata": {},
   "outputs": [],
   "source": []
  }
 ],
 "metadata": {
  "colab": {
   "collapsed_sections": [],
   "name": "keras_multiclass_glove100_accu.ipynb",
   "provenance": [],
   "toc_visible": true
  },
  "kernelspec": {
   "display_name": "Python 3",
   "language": "python",
   "name": "python3"
  },
  "language_info": {
   "codemirror_mode": {
    "name": "ipython",
    "version": 3
   },
   "file_extension": ".py",
   "mimetype": "text/x-python",
   "name": "python",
   "nbconvert_exporter": "python",
   "pygments_lexer": "ipython3",
   "version": "3.8.5"
  }
 },
 "nbformat": 4,
 "nbformat_minor": 4
}
