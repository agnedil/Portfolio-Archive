{
 "cells": [
  {
   "cell_type": "markdown",
   "metadata": {
    "id": "IC5fxur85qCu"
   },
   "source": [
    "# TEXT CLASSIFICATION USING LSTM WITH GLOVE EMBEDDINGS"
   ]
  },
  {
   "cell_type": "code",
   "execution_count": 28,
   "metadata": {
    "id": "OuJXgi6N5qCu"
   },
   "outputs": [],
   "source": [
    "import numpy as np\n",
    "import pandas as pd\n",
    "import string\n",
    "import itertools\n",
    "import os\n",
    "import re\n",
    "import IPython\n",
    "import sklearn\n",
    "import spacy\n",
    "from sklearn.model_selection import train_test_split\n",
    "from sklearn.metrics import accuracy_score, classification_report, confusion_matrix\n",
    "\n",
    "import tensorflow as tf\n",
    "from tensorflow import keras\n",
    "from tensorflow.keras.preprocessing.text import one_hot, Tokenizer\n",
    "from tensorflow.keras.preprocessing.sequence import pad_sequences\n",
    "from tensorflow.keras.models import Sequential\n",
    "from tensorflow.keras.layers import Activation, Dropout, Dense, Flatten, LSTM, Bidirectional, SpatialDropout1D\n",
    "from tensorflow.keras.layers import GlobalMaxPooling1D, Embedding, Input, Concatenate, Conv1D, MaxPooling1D, Conv1D, GlobalMaxPooling1D\n",
    "from tensorflow.keras.models import Model\n",
    "from tensorflow.keras.optimizers import Adam, RMSprop, Nadam\n",
    "\n",
    "import gensim\n",
    "from gensim.models import Word2Vec\n",
    "from gensim.utils import simple_preprocess\n",
    "from gensim.models.keyedvectors import KeyedVectors\n",
    "\n",
    "import matplotlib.pyplot as plt\n",
    "%matplotlib inline"
   ]
  },
  {
   "cell_type": "code",
   "execution_count": 2,
   "metadata": {
    "id": "pvex-fE75qCz"
   },
   "outputs": [],
   "source": [
    "def plot_confusion_matrix(cm, classes,                          \n",
    "                          title='CONFUSION MATRIX',\n",
    "                          cmap=plt.cm.PuBu):               # originally plt.cm.Blues; also good: BuPu,RdPu,PuRd,OrRd,Oranges\n",
    "    '''\n",
    "    Plot the confusion matrix    \n",
    "    '''\n",
    "    plt.rcParams['xtick.bottom'] = plt.rcParams['xtick.labelbottom'] = False\n",
    "    plt.rcParams['xtick.top'] = plt.rcParams['xtick.labeltop'] = True\n",
    "            \n",
    "    plt.figure(figsize=(5,5))\n",
    "    im = plt.imshow(cm, interpolation='nearest', cmap=cmap)\n",
    "    plt.title(title)\n",
    "    plt.colorbar(im, fraction=0.046, pad=0.05)\n",
    "    tick_marks = np.arange(len(classes))\n",
    "    plt.xticks(tick_marks, classes, rotation=90)\n",
    "    plt.yticks(tick_marks, classes)\n",
    "    \n",
    "    fmt = 'd'\n",
    "    thresh = cm.max() / 2.\n",
    "    for i, j in itertools.product(range(cm.shape[0]), range(cm.shape[1])):\n",
    "        plt.text(j, i, format(cm[i, j], fmt),\n",
    "                 horizontalalignment=\"center\",\n",
    "                 color=\"white\" if cm[i, j] > thresh else \"black\")\n",
    "\n",
    "    plt.ylabel('True labels')\n",
    "    plt.xlabel('Predicted labels')\n",
    "    plt.tight_layout()\n",
    "    plt.show()"
   ]
  },
  {
   "cell_type": "code",
   "execution_count": 3,
   "metadata": {
    "colab": {
     "base_uri": "https://localhost:8080/"
    },
    "id": "91nR93mQ7VEm",
    "outputId": "e021eef6-db4c-44e5-caad-32f2f695427d"
   },
   "outputs": [],
   "source": [
    "# UNCOMMENT TO DOWNLOAD AND UNZIP GLOVE VECTORS\n",
    "#os.chdir(project_path)\n",
    "#!wget http://downloads.cs.stanford.edu/nlp/data/glove.6B.zip                        # Linux\n",
    "#!curl http://downloads.cs.stanford.edu/nlp/data/glove.6B.zip -o glove.6B.zip        # Mac OS"
   ]
  },
  {
   "cell_type": "code",
   "execution_count": 4,
   "metadata": {
    "colab": {
     "base_uri": "https://localhost:8080/"
    },
    "id": "FsfylB0a7ssz",
    "outputId": "379ba426-49b0-41b3-cec1-0ce69cb6416e"
   },
   "outputs": [],
   "source": [
    "#!unzip glove.6B.zip\n",
    "#!ls\n",
    "#!pwd"
   ]
  },
  {
   "cell_type": "markdown",
   "metadata": {},
   "source": [
    "## 1. Prepare data"
   ]
  },
  {
   "cell_type": "code",
   "execution_count": null,
   "metadata": {
    "colab": {
     "base_uri": "https://localhost:8080/",
     "height": 262
    },
    "id": "bX7bFUKtGdis",
    "outputId": "7b5972c6-590c-4ac5-fc19-c867b3a5ff4b"
   },
   "outputs": [],
   "source": [
    "file = './data/file_trainValTestsplit.tsv'\n",
    "df = pd.read_csv( file , sep='\\t', encoding='utf-8' )\n",
    "df['sentence_lower'] = df['sentence'].apply( lambda x: x.lower() )\n",
    "df['target'] = df['label'].apply( lambda x: 0 if x=='unk' else 1)\n",
    "print( 'Data size:', df.shape )\n",
    "print( 'Unique sentences:', len( df['sentence'].unique() ) )\n",
    "df.isna().sum()"
   ]
  },
  {
   "cell_type": "code",
   "execution_count": null,
   "metadata": {},
   "outputs": [],
   "source": [
    "df.head(2)"
   ]
  },
  {
   "cell_type": "code",
   "execution_count": 7,
   "metadata": {},
   "outputs": [
    {
     "name": "stdout",
     "output_type": "stream",
     "text": [
      "(10981, 16)\n",
      "(9543, 16)\n"
     ]
    }
   ],
   "source": [
    "# DROP SUBTLE LABELS\n",
    "print( df.shape )\n",
    "df = df[ df['is_subtle'] == 0 ]\n",
    "print( df.shape )"
   ]
  },
  {
   "cell_type": "code",
   "execution_count": 9,
   "metadata": {},
   "outputs": [],
   "source": [
    "def mask_names( text_ ):\n",
    "    \n",
    "    doc = nlp( text_ )\n",
    "    if any(t.ent_type_ == 'PERSON' for t in doc):\n",
    "        text_ = ' '.join([ 'Name' if t.ent_type_=='PERSON' else t.text for t in doc ])\n",
    "        #print( text_ )\n",
    "    \n",
    "    return text_\n",
    "\n",
    "nlp = spacy.load(\"en_core_web_lg\")\n",
    "df['sentence'] = df['sentence'].apply( mask_names )\n",
    "df['sentence_lower'] = df['sentence'].apply( lambda x: x.lower() )\n",
    "del nlp"
   ]
  },
  {
   "cell_type": "code",
   "execution_count": 12,
   "metadata": {},
   "outputs": [],
   "source": [
    "# IF NEEDED, REMOVE DIGITS\n",
    "def remove_digits(s):\n",
    "    remove = str.maketrans('', '', string.digits)\n",
    "    return s.translate( remove )\n",
    "\n",
    "#df['sentence_lower'] = df['sentence_lower'].apply( remove_digits )"
   ]
  },
  {
   "cell_type": "code",
   "execution_count": 13,
   "metadata": {},
   "outputs": [],
   "source": [
    "# REMOVE STOPWORDS\n",
    "def only_alpha(s):\n",
    "    s = s.translate(str.maketrans('', '', string.punctuation))\n",
    "    s = s.translate(str.maketrans('', '', string.digits))\n",
    "    return s.lower().strip()\n",
    "    \n",
    "def remove_stopwords(s):\n",
    "    s = s.strip().split()\n",
    "    s = [ w for w in s if only_alpha(w) not in sw ]\n",
    "    return ' '.join(s)\n",
    "\n",
    "sw = [ 'a', 'an', 'the', 'of', 'thank', ]\n",
    "df['sentence_lower'] = df['sentence_lower'].apply( remove_stopwords )"
   ]
  },
  {
   "cell_type": "code",
   "execution_count": 14,
   "metadata": {},
   "outputs": [
    {
     "name": "stdout",
     "output_type": "stream",
     "text": [
      "Unique uppercase words: 16898\n",
      "Unique lowercase words: 14993\n",
      "Maximum sentence length: 114\n"
     ]
    }
   ],
   "source": [
    "# TOTAL NUM OF UNIQUE WORDS (very approx. because punctuation is included)\n",
    "print( 'Unique uppercase words:' , len(set(' '.join(df['sentence'].tolist()).split())) )\n",
    "print( 'Unique lowercase words:' , len(set(' '.join(df['sentence_lower'].tolist()).split())) )\n",
    "\n",
    "df['length'] = df['sentence_lower'].apply( lambda x: len(x.split()) )\n",
    "print( 'Maximum sentence length:', df['length'].max() )\n",
    "maxlen = df['length'].max()"
   ]
  },
  {
   "cell_type": "code",
   "execution_count": 15,
   "metadata": {},
   "outputs": [
    {
     "name": "stdout",
     "output_type": "stream",
     "text": [
      "(9543, 17)\n",
      "Train set: (8626, 17)\n",
      "Test set:  (812, 17)\n"
     ]
    }
   ],
   "source": [
    "# TRAIN / TEST SPLIT\n",
    "print( df.shape )\n",
    "df_test  = df[ df['subset'] == 'test' ]\n",
    "df_train = df[ df['subset'].isin([ 'train', 'val' ]) ]\n",
    "print( 'Train set:', df_train.shape )\n",
    "print( 'Test set: ', df_test.shape )"
   ]
  },
  {
   "cell_type": "code",
   "execution_count": 16,
   "metadata": {
    "colab": {
     "base_uri": "https://localhost:8080/"
    },
    "id": "MCAzhrbkGdi4",
    "outputId": "dcc03104-8a3a-4af0-8eb0-0786e95e77c5"
   },
   "outputs": [
    {
     "name": "stdout",
     "output_type": "stream",
     "text": [
      "Shape of data: (8626,) (812,) (8626,) (812,)\n"
     ]
    }
   ],
   "source": [
    "X_train, y_train, X_test, y_test = df_train['sentence_lower'], df_train['target'], df_test['sentence_lower'], df_test['target']\n",
    "print('Shape of data:', X_train.shape, X_test.shape, y_train.shape, y_test.shape)"
   ]
  },
  {
   "cell_type": "code",
   "execution_count": 17,
   "metadata": {
    "colab": {
     "base_uri": "https://localhost:8080/"
    },
    "id": "YNBeza7_5qDl",
    "outputId": "e08431af-311f-42d2-a595-8d02495a42fd"
   },
   "outputs": [
    {
     "name": "stdout",
     "output_type": "stream",
     "text": [
      "Vocabulary size: 9970\n"
     ]
    }
   ],
   "source": [
    "# KERAS TOKENIZER\n",
    "tokenizer = Tokenizer(num_words=20000, lower=True, oov_token='oov')\n",
    "tokenizer.fit_on_texts(X_train)\n",
    "\n",
    "X_train = tokenizer.texts_to_sequences(X_train)\n",
    "X_test = tokenizer.texts_to_sequences(X_test)\n",
    "\n",
    "vocab_size = len(tokenizer.word_index) + 1\n",
    "print('Vocabulary size:', vocab_size)\n",
    "\n",
    "X_train = pad_sequences(X_train, padding='post', maxlen=maxlen)\n",
    "X_test = pad_sequences(X_test, padding='post', maxlen=maxlen)"
   ]
  },
  {
   "cell_type": "code",
   "execution_count": 18,
   "metadata": {},
   "outputs": [],
   "source": [
    "# LOAD WORD2VEC VECTORS FOR OUR VOCABULARY\n",
    "word_vectors = KeyedVectors.load_word2vec_format('./pretrained_embeddings/GoogleNews-vectors-negative300.bin', binary=True)"
   ]
  },
  {
   "cell_type": "code",
   "execution_count": 19,
   "metadata": {
    "id": "3ellNOuZ5qDp"
   },
   "outputs": [],
   "source": [
    "# LOAD PRETRAINED WORD2VEC EMBEDDINGS\n",
    "EMBED_SIZE=300\n",
    "embedding_matrix = np.zeros((vocab_size, EMBED_SIZE))\n",
    "for word, i in tokenizer.word_index.items():\n",
    "    #if i>=NUM_WORDS:\n",
    "    #    continue\n",
    "    try:\n",
    "        embedding_vector = word_vectors[word]\n",
    "        embedding_matrix[i] = embedding_vector\n",
    "    except KeyError:\n",
    "        embedding_matrix[i]=np.random.normal(0,np.sqrt(0.25),EMBED_SIZE)\n",
    "\n",
    "del(word_vectors)"
   ]
  },
  {
   "cell_type": "code",
   "execution_count": 26,
   "metadata": {},
   "outputs": [],
   "source": [
    "# LOAD GLOVE VECTORS FOR OUR VOCABULARY\n",
    "embeddings_dictionary = dict()\n",
    "EMBED_SIZE = 300\n",
    "\n",
    "glove_file = open('pretrained_embeddings/glove.6B.300d.txt', encoding=\"utf8\")\n",
    "\n",
    "for line in glove_file:\n",
    "    records = line.split()\n",
    "    word = records[0]\n",
    "    vector_dimensions = np.asarray(records[1:], dtype='float32')\n",
    "    embeddings_dictionary[word] = vector_dimensions\n",
    "glove_file.close()\n",
    "\n",
    "embedding_matrix = np.zeros((vocab_size, EMBED_SIZE))\n",
    "for word, index in tokenizer.word_index.items():\n",
    "    embedding_vector = embeddings_dictionary.get(word)\n",
    "    if embedding_vector is not None:\n",
    "        embedding_matrix[index] = embedding_vector"
   ]
  },
  {
   "cell_type": "markdown",
   "metadata": {},
   "source": [
    "## 2. CNN Model #1"
   ]
  },
  {
   "cell_type": "code",
   "execution_count": 20,
   "metadata": {
    "colab": {
     "base_uri": "https://localhost:8080/"
    },
    "id": "roE6JoPS5qDr",
    "outputId": "2370b9ec-ada9-4818-8ccb-af0db0f2db89"
   },
   "outputs": [],
   "source": [
    "# MODEL ARCHITECTURE\n",
    "learning_rate = 1e-3\n",
    "batch_size = 64\n",
    "\n",
    "deep_inputs = Input(shape=(maxlen,))\n",
    "embedding_layer = Embedding(vocab_size, EMBED_SIZE, weights=[embedding_matrix], trainable=False)(deep_inputs)\n",
    "stride = 5\n",
    "size   = 128\n",
    "x = Conv1D(size, stride, activation=\"relu\", padding=\"same\")(embedding_layer)\n",
    "x = MaxPooling1D(stride)(x)\n",
    "x = Conv1D(size, stride, activation=\"relu\", padding=\"same\")(x)\n",
    "x = MaxPooling1D(stride)(x)\n",
    "x = Conv1D(size, stride, activation=\"relu\", padding=\"same\")(x)\n",
    "x = GlobalMaxPooling1D()(x)\n",
    "x = Dense(size, activation=\"relu\")(x)\n",
    "x = Dropout(0.5)(x)\n",
    "preds = Dense(1, activation='sigmoid')(x)\n",
    "model = Model(inputs=deep_inputs, outputs=preds)\n",
    "\n",
    "model.compile( loss='binary_crossentropy', optimizer=RMSprop(lr=learning_rate), metrics=['accuracy'] )\n",
    "#print(model.summary())"
   ]
  },
  {
   "cell_type": "code",
   "execution_count": 21,
   "metadata": {
    "colab": {
     "base_uri": "https://localhost:8080/"
    },
    "id": "tOHAMFnS5qDw",
    "outputId": "1ef8515a-57d5-4dc3-ff9d-1a36e5356c3a",
    "scrolled": true
   },
   "outputs": [
    {
     "name": "stdout",
     "output_type": "stream",
     "text": [
      "Epoch 1/25\n",
      "108/108 [==============================] - 10s 80ms/step - loss: 0.6650 - accuracy: 0.5996 - val_loss: 0.5877 - val_accuracy: 0.6883\n",
      "Epoch 2/25\n",
      "108/108 [==============================] - 6s 57ms/step - loss: 0.5393 - accuracy: 0.7247 - val_loss: 0.5097 - val_accuracy: 0.7503\n",
      "Epoch 3/25\n",
      "108/108 [==============================] - 6s 52ms/step - loss: 0.4666 - accuracy: 0.7800 - val_loss: 0.4927 - val_accuracy: 0.7694\n",
      "Epoch 4/25\n",
      "108/108 [==============================] - 6s 57ms/step - loss: 0.3726 - accuracy: 0.8314 - val_loss: 0.5106 - val_accuracy: 0.7723\n",
      "Epoch 5/25\n",
      "108/108 [==============================] - 6s 56ms/step - loss: 0.2849 - accuracy: 0.8821 - val_loss: 0.5563 - val_accuracy: 0.7885\n",
      "Epoch 6/25\n",
      "108/108 [==============================] - 6s 53ms/step - loss: 0.2205 - accuracy: 0.9096 - val_loss: 0.7069 - val_accuracy: 0.7619\n",
      "Epoch 7/25\n",
      "108/108 [==============================] - 6s 56ms/step - loss: 0.1595 - accuracy: 0.9436 - val_loss: 0.9213 - val_accuracy: 0.7474\n",
      "Epoch 8/25\n",
      "108/108 [==============================] - 6s 56ms/step - loss: 0.1190 - accuracy: 0.9609 - val_loss: 0.8180 - val_accuracy: 0.7642\n",
      "Epoch 9/25\n",
      "108/108 [==============================] - 6s 51ms/step - loss: 0.0820 - accuracy: 0.9765 - val_loss: 0.8804 - val_accuracy: 0.7746\n",
      "Epoch 10/25\n",
      "108/108 [==============================] - 6s 53ms/step - loss: 0.0673 - accuracy: 0.9830 - val_loss: 0.9762 - val_accuracy: 0.7659\n"
     ]
    }
   ],
   "source": [
    "early_stop = tf.keras.callbacks.EarlyStopping(\n",
    "                                               monitor='val_accuracy',\n",
    "                                               patience=5,\n",
    "                                               restore_best_weights=True,\n",
    "                                           )\n",
    "history = model.fit( X_train,\n",
    "                     y_train,\n",
    "                     batch_size=batch_size,\n",
    "                     epochs=25,\n",
    "                     verbose=1,\n",
    "                     validation_split=0.2,\n",
    "                     callbacks=[early_stop]\n",
    "                    )"
   ]
  },
  {
   "cell_type": "code",
   "execution_count": 38,
   "metadata": {
    "colab": {
     "base_uri": "https://localhost:8080/"
    },
    "id": "Oohyl9HG5qDy",
    "outputId": "f8f4e3bc-11c7-41ca-c5a8-0f7423e5edf0"
   },
   "outputs": [
    {
     "name": "stdout",
     "output_type": "stream",
     "text": [
      "26/26 [==============================] - 1s 19ms/step - loss: 0.8205 - accuracy: 0.7611\n",
      "Test Score: 0.8204634189605713\n",
      "Test Accuracy: 0.761083722114563\n"
     ]
    }
   ],
   "source": [
    "score = model.evaluate(X_test, y_test, verbose=1)\n",
    "print(\"Test Score:\", score[0])\n",
    "print(\"Test Accuracy:\", score[1])"
   ]
  },
  {
   "cell_type": "code",
   "execution_count": 39,
   "metadata": {
    "colab": {
     "base_uri": "https://localhost:8080/",
     "height": 573
    },
    "id": "Ok1VWIhS5qD0",
    "outputId": "0051046d-c6b0-4424-a3fb-f9b9ae18b2bb"
   },
   "outputs": [
    {
     "data": {
      "image/png": "[encoded data removed]",
      "text/plain": [
       "<Figure size 432x288 with 1 Axes>"
      ]
     },
     "metadata": {
      "needs_background": "light"
     },
     "output_type": "display_data"
    },
    {
     "data": {
      "image/png": "[encoded data removed]",
      "text/plain": [
       "<Figure size 432x288 with 1 Axes>"
      ]
     },
     "metadata": {
      "needs_background": "light"
     },
     "output_type": "display_data"
    }
   ],
   "source": [
    "import matplotlib.pyplot as plt\n",
    "\n",
    "plt.plot(history.history['accuracy'])\n",
    "plt.plot(history.history['val_accuracy'])\n",
    "\n",
    "plt.title('model accuracy')\n",
    "plt.ylabel('accuracy')\n",
    "plt.xlabel('epoch')\n",
    "plt.legend(['train','test'], loc='upper left')\n",
    "plt.show()\n",
    "\n",
    "plt.plot(history.history['loss'])\n",
    "plt.plot(history.history['val_loss'])\n",
    "\n",
    "plt.title('model loss')\n",
    "plt.ylabel('loss')\n",
    "plt.xlabel('epoch')\n",
    "plt.legend(['train','test'], loc='upper left')\n",
    "plt.show()"
   ]
  },
  {
   "cell_type": "code",
   "execution_count": 40,
   "metadata": {
    "id": "wGjSy8pGIOk-"
   },
   "outputs": [],
   "source": [
    "# PREDICT ALL\n",
    "predictions = model.predict(X_test)\n",
    "predictions = np.round( predictions )"
   ]
  },
  {
   "cell_type": "code",
   "execution_count": 41,
   "metadata": {
    "colab": {
     "base_uri": "https://localhost:8080/",
     "height": 713
    },
    "id": "uW4PPBJ_WXMP",
    "outputId": "4dd70ef2-8387-43e5-c814-030d8d4bd1e1"
   },
   "outputs": [
    {
     "name": "stdout",
     "output_type": "stream",
     "text": [
      "              precision    recall  f1-score   support\n",
      "\n",
      "           0       0.83      0.77      0.80       492\n",
      "           1       0.68      0.75      0.71       320\n",
      "\n",
      "    accuracy                           0.76       812\n",
      "   macro avg       0.75      0.76      0.75       812\n",
      "weighted avg       0.77      0.76      0.76       812\n",
      "\n"
     ]
    },
    {
     "data": {
      "text/plain": [
       "<Figure size 432x288 with 0 Axes>"
      ]
     },
     "metadata": {},
     "output_type": "display_data"
    },
    {
     "data": {
      "image/png": "[encoded data removed]",
      "text/plain": [
       "<Figure size 360x360 with 2 Axes>"
      ]
     },
     "metadata": {
      "needs_background": "light"
     },
     "output_type": "display_data"
    }
   ],
   "source": [
    "#labels = [ '0', '1' ]\n",
    "print(classification_report(y_test, predictions))# target_names=labels))\n",
    "\n",
    "# PRINT THE CONFUSION MATRIX\n",
    "labels = list( range( len(np.unique(y_test))))\n",
    "cm = confusion_matrix(y_test, predictions)\n",
    "np.set_printoptions(precision=2)\n",
    "plt.figure()\n",
    "plot_confusion_matrix(cm, classes=labels)"
   ]
  },
  {
   "cell_type": "markdown",
   "metadata": {},
   "source": [
    "### CNN Model #2"
   ]
  },
  {
   "cell_type": "code",
   "execution_count": 29,
   "metadata": {},
   "outputs": [],
   "source": [
    "def cnn_module(inputs, filters, widths):\n",
    "    t1 = keras.layers.Conv1D(filters, widths[0], padding=\"same\")(inputs)\n",
    "    t1 = keras.layers.BatchNormalization()(t1)\n",
    "    t1 = keras.layers.LeakyReLU()(t1)\n",
    "    t2 = keras.layers.Conv1D(filters, widths[1], padding=\"same\")(inputs)\n",
    "    t2 = keras.layers.BatchNormalization()(t2)\n",
    "    t2 = keras.layers.LeakyReLU()(t2)\n",
    "    t3 = keras.layers.Conv1D(filters, widths[2], padding=\"same\")(inputs)\n",
    "    t3 = keras.layers.BatchNormalization()(t3)\n",
    "    t3 = keras.layers.LeakyReLU()(t3)\n",
    "    co = keras.layers.Concatenate()([t1, t2, t3])\n",
    "    return co\n"
   ]
  },
  {
   "cell_type": "code",
   "execution_count": null,
   "metadata": {},
   "outputs": [],
   "source": [
    "learning_rate = 1e-3\n",
    "batch_size    = 64\n",
    "units         = 32\n",
    "dropout       = 0.5\n",
    "\n",
    "deep_inputs = Input(shape=(maxlen,))\n",
    "embedding_layer = Embedding(vocab_size, EMBED_SIZE, weights=[embedding_matrix], trainable=False)(deep_inputs)\n",
    "cnn1 = cnn_module(embedding_layer, 16, [1, 2, 3])\n",
    "cnn2 = cnn_module(cnn1, 32, [1, 2, 3])\n",
    "cnn2 = cnn_module(cnn2, 64, [1, 2, 3])\n",
    "cnn2 = cnn_module(cnn2, 32, [1, 2, 3])\n",
    "cnn2 = cnn_module(cnn2, 32, [1, 2, 3])\n",
    "cnn2 = cnn_module(cnn2, 32, [1, 2, 3])\n",
    "#rnn = keras.layers.Bidirectional(keras.layers.GRU(8))(cnn2)\n",
    "#rnn = keras.layers.Dropout(0.1)(rnn)\n",
    "#rnn = keras.layers.Bidirectional(keras.layers.GRU(16), merge_mode='sum')(cnn2)\n",
    "rnn = keras.layers.Bidirectional(keras.layers.LSTM(units, dropout=0.0))(cnn2)\n",
    "out = keras.layers.Dense(1, activation=\"sigmoid\")(rnn)\n",
    "\n",
    "model = Model(inputs=deep_inputs, outputs=out)\n",
    "\n",
    "model.compile( loss='binary_crossentropy', optimizer=Nadam(lr=learning_rate), metrics=['accuracy'] )\n",
    "#print(model.summary())"
   ]
  },
  {
   "cell_type": "code",
   "execution_count": 37,
   "metadata": {
    "scrolled": true
   },
   "outputs": [
    {
     "name": "stdout",
     "output_type": "stream",
     "text": [
      "Epoch 1/25\n",
      "108/108 [==============================] - 35s 230ms/step - loss: 0.6194 - accuracy: 0.6508 - val_loss: 0.5629 - val_accuracy: 0.7294\n",
      "Epoch 2/25\n",
      "108/108 [==============================] - 22s 205ms/step - loss: 0.4752 - accuracy: 0.7799 - val_loss: 0.5585 - val_accuracy: 0.7005\n",
      "Epoch 3/25\n",
      "108/108 [==============================] - 23s 208ms/step - loss: 0.4165 - accuracy: 0.8090 - val_loss: 0.4715 - val_accuracy: 0.7816\n",
      "Epoch 4/25\n",
      "108/108 [==============================] - 22s 201ms/step - loss: 0.3411 - accuracy: 0.8573 - val_loss: 0.4531 - val_accuracy: 0.7920\n",
      "Epoch 5/25\n",
      "108/108 [==============================] - 21s 198ms/step - loss: 0.2910 - accuracy: 0.8861 - val_loss: 0.5002 - val_accuracy: 0.7932\n",
      "Epoch 6/25\n",
      "108/108 [==============================] - 22s 201ms/step - loss: 0.2330 - accuracy: 0.9045 - val_loss: 0.4860 - val_accuracy: 0.7891\n",
      "Epoch 7/25\n",
      "108/108 [==============================] - 21s 198ms/step - loss: 0.1890 - accuracy: 0.9330 - val_loss: 0.4757 - val_accuracy: 0.8013\n",
      "Epoch 8/25\n",
      "108/108 [==============================] - 21s 197ms/step - loss: 0.1564 - accuracy: 0.9450 - val_loss: 0.5074 - val_accuracy: 0.8042\n",
      "Epoch 9/25\n",
      "108/108 [==============================] - 18s 166ms/step - loss: 0.1245 - accuracy: 0.9551 - val_loss: 0.5531 - val_accuracy: 0.7949\n",
      "Epoch 10/25\n",
      "108/108 [==============================] - 18s 169ms/step - loss: 0.1005 - accuracy: 0.9661 - val_loss: 0.5319 - val_accuracy: 0.7937\n",
      "Epoch 11/25\n",
      "108/108 [==============================] - 17s 161ms/step - loss: 0.0970 - accuracy: 0.9697 - val_loss: 0.6901 - val_accuracy: 0.7984\n",
      "Epoch 12/25\n",
      "108/108 [==============================] - 18s 163ms/step - loss: 0.0652 - accuracy: 0.9802 - val_loss: 0.5929 - val_accuracy: 0.8100\n",
      "Epoch 13/25\n",
      "108/108 [==============================] - 18s 164ms/step - loss: 0.0708 - accuracy: 0.9768 - val_loss: 0.6274 - val_accuracy: 0.8204\n",
      "Epoch 14/25\n",
      "108/108 [==============================] - 17s 162ms/step - loss: 0.0547 - accuracy: 0.9840 - val_loss: 0.6711 - val_accuracy: 0.8024\n",
      "Epoch 15/25\n",
      "108/108 [==============================] - 18s 169ms/step - loss: 0.0510 - accuracy: 0.9843 - val_loss: 0.7126 - val_accuracy: 0.8094\n",
      "Epoch 16/25\n",
      "108/108 [==============================] - 18s 168ms/step - loss: 0.0400 - accuracy: 0.9883 - val_loss: 0.7529 - val_accuracy: 0.8019\n",
      "Epoch 17/25\n",
      "108/108 [==============================] - 19s 173ms/step - loss: 0.0380 - accuracy: 0.9887 - val_loss: 0.7316 - val_accuracy: 0.8071\n",
      "Epoch 18/25\n",
      "108/108 [==============================] - 19s 176ms/step - loss: 0.0525 - accuracy: 0.9835 - val_loss: 0.7219 - val_accuracy: 0.7949\n"
     ]
    }
   ],
   "source": [
    "early_stop = tf.keras.callbacks.EarlyStopping(\n",
    "                                               monitor='val_accuracy',\n",
    "                                               patience=5,\n",
    "                                               restore_best_weights=True,\n",
    "                                           )\n",
    "history = model.fit( X_train,\n",
    "                     y_train,\n",
    "                     batch_size=batch_size,\n",
    "                     epochs=25,\n",
    "                     verbose=1,\n",
    "                     validation_split=0.2,\n",
    "                     callbacks=[early_stop]\n",
    "                    )"
   ]
  },
  {
   "cell_type": "code",
   "execution_count": 42,
   "metadata": {
    "colab": {
     "base_uri": "https://localhost:8080/"
    },
    "id": "Oohyl9HG5qDy",
    "outputId": "f8f4e3bc-11c7-41ca-c5a8-0f7423e5edf0"
   },
   "outputs": [
    {
     "name": "stdout",
     "output_type": "stream",
     "text": [
      "26/26 [==============================] - 0s 15ms/step - loss: 0.8205 - accuracy: 0.7611\n",
      "Test Score: 0.8204634189605713\n",
      "Test Accuracy: 0.761083722114563\n"
     ]
    }
   ],
   "source": [
    "score = model.evaluate(X_test, y_test, verbose=1)\n",
    "print(\"Test Score:\", score[0])\n",
    "print(\"Test Accuracy:\", score[1])"
   ]
  },
  {
   "cell_type": "code",
   "execution_count": 43,
   "metadata": {
    "colab": {
     "base_uri": "https://localhost:8080/",
     "height": 573
    },
    "id": "Ok1VWIhS5qD0",
    "outputId": "0051046d-c6b0-4424-a3fb-f9b9ae18b2bb"
   },
   "outputs": [
    {
     "data": {
      "image/png": "[encoded data removed]",
      "text/plain": [
       "<Figure size 432x288 with 1 Axes>"
      ]
     },
     "metadata": {
      "needs_background": "light"
     },
     "output_type": "display_data"
    },
    {
     "data": {
      "image/png": "[encoded data removed]",
      "text/plain": [
       "<Figure size 432x288 with 1 Axes>"
      ]
     },
     "metadata": {
      "needs_background": "light"
     },
     "output_type": "display_data"
    }
   ],
   "source": [
    "import matplotlib.pyplot as plt\n",
    "\n",
    "plt.plot(history.history['accuracy'])\n",
    "plt.plot(history.history['val_accuracy'])\n",
    "\n",
    "plt.title('model accuracy')\n",
    "plt.ylabel('accuracy')\n",
    "plt.xlabel('epoch')\n",
    "plt.legend(['train','test'], loc='upper left')\n",
    "plt.show()\n",
    "\n",
    "plt.plot(history.history['loss'])\n",
    "plt.plot(history.history['val_loss'])\n",
    "\n",
    "plt.title('model loss')\n",
    "plt.ylabel('loss')\n",
    "plt.xlabel('epoch')\n",
    "plt.legend(['train','test'], loc='upper left')\n",
    "plt.show()"
   ]
  },
  {
   "cell_type": "code",
   "execution_count": 44,
   "metadata": {
    "id": "wGjSy8pGIOk-"
   },
   "outputs": [],
   "source": [
    "# PREDICT ALL\n",
    "predictions = model.predict(X_test)\n",
    "predictions = np.round( predictions )"
   ]
  },
  {
   "cell_type": "code",
   "execution_count": 45,
   "metadata": {
    "colab": {
     "base_uri": "https://localhost:8080/",
     "height": 713
    },
    "id": "uW4PPBJ_WXMP",
    "outputId": "4dd70ef2-8387-43e5-c814-030d8d4bd1e1"
   },
   "outputs": [
    {
     "name": "stdout",
     "output_type": "stream",
     "text": [
      "              precision    recall  f1-score   support\n",
      "\n",
      "           0       0.83      0.77      0.80       492\n",
      "           1       0.68      0.75      0.71       320\n",
      "\n",
      "    accuracy                           0.76       812\n",
      "   macro avg       0.75      0.76      0.75       812\n",
      "weighted avg       0.77      0.76      0.76       812\n",
      "\n"
     ]
    },
    {
     "data": {
      "text/plain": [
       "<Figure size 432x288 with 0 Axes>"
      ]
     },
     "metadata": {},
     "output_type": "display_data"
    },
    {
     "data": {
      "image/png": "[encoded data removed]",
      "text/plain": [
       "<Figure size 360x360 with 2 Axes>"
      ]
     },
     "metadata": {
      "needs_background": "light"
     },
     "output_type": "display_data"
    }
   ],
   "source": [
    "#labels = [ '0', '1' ]\n",
    "print(classification_report(y_test, predictions))# target_names=labels))\n",
    "\n",
    "# PRINT THE CONFUSION MATRIX\n",
    "labels = list( range( len(np.unique(y_test))))\n",
    "cm = confusion_matrix(y_test, predictions)\n",
    "np.set_printoptions(precision=2)\n",
    "plt.figure()\n",
    "plot_confusion_matrix(cm, classes=labels)"
   ]
  },
  {
   "cell_type": "code",
   "execution_count": null,
   "metadata": {},
   "outputs": [],
   "source": []
  },
  {
   "cell_type": "markdown",
   "metadata": {
    "id": "HWWEqhu86Uwb"
   },
   "source": [
    "## Keras Model Hyperparameter Tuning"
   ]
  },
  {
   "cell_type": "code",
   "execution_count": null,
   "metadata": {
    "colab": {
     "base_uri": "https://localhost:8080/"
    },
    "id": "K506I-zxJ2e5",
    "outputId": "ac4f890b-bcca-40c4-fc41-95f108d53623"
   },
   "outputs": [],
   "source": [
    "#!pip install -q -U keras-tuner"
   ]
  },
  {
   "cell_type": "code",
   "execution_count": null,
   "metadata": {
    "colab": {
     "base_uri": "https://localhost:8080/"
    },
    "id": "PWhfrD49rryG",
    "outputId": "3926e823-1334-44ce-bf34-37bfefd3142b"
   },
   "outputs": [],
   "source": [
    "df['label'].value_counts()"
   ]
  },
  {
   "cell_type": "code",
   "execution_count": null,
   "metadata": {
    "id": "6GSp5Ka5rJV6"
   },
   "outputs": [],
   "source": [
    "# downsize corpus\n",
    "def downsample_balanced(X_train_, y_train_):\n",
    "\n",
    "    # how many samples to resample w/raplacement - based on analysis of doc count + word count per category\n",
    "    # (=balanced upsampling, not just using doc count because some categories have a lot more docs, but they are shorter\n",
    "    # which means that you have to add not as many docs to the underrepresented category because its docs are longer)\n",
    "    dict_upsample = {0: 2000,\n",
    "                     1: 3000,\n",
    "                     2: 3000,\n",
    "                     3: 5000,\n",
    "                     4: 5000,\n",
    "                     5: 4000,\n",
    "                     6: 5000,}\n",
    "    \n",
    "    downsampled_dfs = []\n",
    "    for k in dict_upsample:\n",
    "\n",
    "        category      = k\n",
    "        num_to_sample = dict_upsample[k]\n",
    "\n",
    "        if num_to_sample != 0:\n",
    "\n",
    "            temp_all_categories = pd.DataFrame( {'X_train': X_train_, 'y_train': y_train_} )\n",
    "            temp_one_category   = temp_all_categories[ temp_all_categories['y_train'] == category ]            \n",
    "            downsampled_dfs.append(temp_one_category.sample( num_to_sample, replace=False ))\n",
    "            print('Downsampled category {} to {} samples'.format(k, dict_upsample[k]))\n",
    "            \n",
    "    temp_all_categories = sklearn.utils.shuffle(pd.concat(downsampled_dfs))\n",
    "    X_train_ = temp_all_categories[ 'X_train' ]\n",
    "    y_train_ = temp_all_categories[ 'y_train' ]            \n",
    "\n",
    "    print('Shape of downsampled datasets:', X_train_.shape, y_train_.shape)\n",
    "        \n",
    "    return X_train_, y_train_"
   ]
  },
  {
   "cell_type": "code",
   "execution_count": null,
   "metadata": {
    "colab": {
     "base_uri": "https://localhost:8080/"
    },
    "id": "aVtXa6aMvzQA",
    "outputId": "6be92a92-2b58-417b-d824-70b73852c981"
   },
   "outputs": [],
   "source": [
    "X_train, y_train = downsample_balanced(X_train, y_train)"
   ]
  },
  {
   "cell_type": "code",
   "execution_count": null,
   "metadata": {
    "id": "GYjFOzSq6IWz"
   },
   "outputs": [],
   "source": [
    "import kerastuner as kt\n",
    "\n",
    "def model_builder(hp):\n",
    "        \n",
    "    #model = keras.Sequential()\n",
    "    #model.add(keras.layers.Flatten(input_shape=(28, 28)))\n",
    "\n",
    "    # Tune the number of units in the first Dense layer  \n",
    "    #hp_units = hp.Int('units', min_value = 32, max_value = 512, step = 32)\n",
    "    #model.add(keras.layers.Dense(units = hp_units, activation = 'relu'))\n",
    "    #model.add(keras.layers.Dense(10))\n",
    "\n",
    "    # Tune the learning rate for the optimizer  \n",
    "    #hp_learning_rate = hp.Choice('learning_rate', values = [1e-2, 1e-3, 1e-4]) \n",
    "\n",
    "    #model.compile(optimizer = keras.optimizers.Adam(learning_rate = hp_learning_rate),\n",
    "    #              loss = keras.losses.SparseCategoricalCrossentropy(from_logits = True), \n",
    "    #              metrics = ['accuracy'])\n",
    "\n",
    "    deep_inputs = Input(shape=(maxlen,))\n",
    "    embedding_layer = Embedding(vocab_size, EMBED_SIZE, weights=[embedding_matrix], trainable=False)(deep_inputs)\n",
    "    #spatial_dropout = SpatialDropout1D(0.25)(embedding_layer)\n",
    "\n",
    "    hp_units = hp.Int('units', min_value = 64, max_value = 512, step = 64)\n",
    "    hp_dropout = hp.Choice('dropout', values = [0.05, 0.1, 0.15, 0.2])\n",
    "    LSTM_Layer_1 = Bidirectional(LSTM(units = hp_units, dropout=hp_dropout, return_sequences=True))(embedding_layer)    # recurrent_dropout=0.2\n",
    "    LSTM_Layer_2 = Bidirectional(LSTM(units = hp_units, dropout=hp_dropout))(LSTM_Layer_1)\n",
    "    dense_layer_1 = Dense(7, activation='softmax')(LSTM_Layer_2)\n",
    "    model = Model(inputs=deep_inputs, outputs=dense_layer_1)\n",
    "\n",
    "    hp_learning_rate = hp.Choice('learning_rate', values = [1e-2, 1e-3, 1e-4])\n",
    "    model.compile(loss='SparseCategoricalCrossentropy', optimizer=Adam(lr=hp_learning_rate), metrics=['accuracy'])\n",
    "    print(model.summary())\n",
    "\n",
    "    return model"
   ]
  },
  {
   "cell_type": "code",
   "execution_count": null,
   "metadata": {
    "colab": {
     "base_uri": "https://localhost:8080/"
    },
    "id": "laGfWXed6d9v",
    "outputId": "a7679966-64b3-48e6-8872-428da08f70f8"
   },
   "outputs": [],
   "source": [
    "tuner = kt.Hyperband(model_builder,\n",
    "                     objective = 'val_accuracy', \n",
    "                     max_epochs = 10,\n",
    "                     factor = 3,\n",
    "                     directory = './tuner',\n",
    "                     project_name = 'kt_hb')"
   ]
  },
  {
   "cell_type": "code",
   "execution_count": null,
   "metadata": {
    "colab": {
     "base_uri": "https://localhost:8080/",
     "height": 679
    },
    "id": "70iejtU36eQE",
    "outputId": "df454cf3-6cc0-49a2-f028-8be1d05e69f0"
   },
   "outputs": [],
   "source": [
    "class ClearTrainingOutput(tf.keras.callbacks.Callback):\n",
    "    \n",
    "    def on_train_end(*args, **kwargs):\n",
    "        IPython.display.clear_output(wait = True)\n",
    "\n",
    "tuner.search(X_train, y_train, epochs = 10, validation_data = (X_test, y_test), callbacks = [ClearTrainingOutput()])"
   ]
  },
  {
   "cell_type": "code",
   "execution_count": null,
   "metadata": {
    "colab": {
     "base_uri": "https://localhost:8080/"
    },
    "id": "HjjQVKB9ccu_",
    "outputId": "1f18b49a-72af-461c-8af6-0dbe0ca02175"
   },
   "outputs": [],
   "source": [
    "# Get the optimal hyperparameters\n",
    "# previous run - lr=0.001, units-512\n",
    "best_model = tuner.get_best_models(1)[0]\n",
    "best_hps = tuner.get_best_hyperparameters(num_trials = 1)[0]\n",
    "print('Best model:', best_model)\n",
    "print('Best hyperparameters:', best_hps.values)"
   ]
  },
  {
   "cell_type": "code",
   "execution_count": null,
   "metadata": {
    "colab": {
     "base_uri": "https://localhost:8080/"
    },
    "id": "mULVCKQ0nBtE",
    "outputId": "81cdf16a-4772-4ad7-f0d8-b4ee0f1b4e70"
   },
   "outputs": [],
   "source": [
    "best_hps.values"
   ]
  },
  {
   "cell_type": "code",
   "execution_count": null,
   "metadata": {
    "id": "nX-kPUMyTfZL"
   },
   "outputs": [],
   "source": []
  }
 ],
 "metadata": {
  "colab": {
   "collapsed_sections": [],
   "name": "keras_multiclass_glove100_accu.ipynb",
   "provenance": [],
   "toc_visible": true
  },
  "kernelspec": {
   "display_name": "Python 3",
   "language": "python",
   "name": "python3"
  },
  "language_info": {
   "codemirror_mode": {
    "name": "ipython",
    "version": 3
   },
   "file_extension": ".py",
   "mimetype": "text/x-python",
   "name": "python",
   "nbconvert_exporter": "python",
   "pygments_lexer": "ipython3",
   "version": "3.8.5"
  }
 },
 "nbformat": 4,
 "nbformat_minor": 1
}
