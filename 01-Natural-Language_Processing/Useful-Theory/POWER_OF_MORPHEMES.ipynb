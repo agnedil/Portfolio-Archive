{
 "cells": [
  {
   "cell_type": "markdown",
   "metadata": {},
   "source": [
    "# POTENTIAL POWER OF MORPHEMES"
   ]
  },
  {
   "cell_type": "code",
   "execution_count": 26,
   "metadata": {},
   "outputs": [],
   "source": [
    "import spacy\n",
    "nlp = spacy.load('en_core_web_lg')"
   ]
  },
  {
   "cell_type": "code",
   "execution_count": 269,
   "metadata": {},
   "outputs": [],
   "source": [
    "s = 'The tool has enabled automation of business intelligence incoporation into BOP and delivered unbiased forecast in FY16'\n",
    "d = nlp(s)"
   ]
  },
  {
   "cell_type": "code",
   "execution_count": 302,
   "metadata": {},
   "outputs": [
    {
     "name": "stdout",
     "output_type": "stream",
     "text": [
      "['The', 'tool', 'has', 'enabled', 'automation', 'of', 'business', 'intelligence', 'incoporation', 'into', 'BOP', 'and', 'delivered', 'unbiased', 'forecast', 'in', 'FY16']\n",
      "['the', 'tool', 'have', 'enable', 'automation', 'of', 'business', 'intelligence', 'incoporation', 'into', 'BOP', 'and', 'deliver', 'unbiased', 'forecast', 'in', 'FY16']\n",
      "[Definite=Def|PronType=Art, Number=Sing, Mood=Ind|Number=Sing|Person=3|Tense=Pres|VerbForm=Fin, Aspect=Perf|Tense=Past|VerbForm=Part, Number=Sing, , Number=Sing, Number=Sing, Number=Sing, , NounType=Prop|Number=Sing, ConjType=Cmp, Tense=Past|VerbForm=Fin, Degree=Pos, Number=Sing, , NounType=Prop|Number=Sing]\n"
     ]
    }
   ],
   "source": [
    "# MORPHEMES!\n",
    "print([t.text for t in d])\n",
    "print([t.lemma_ for t in d])\n",
    "print([t.morph for t in d])"
   ]
  },
  {
   "cell_type": "code",
   "execution_count": null,
   "metadata": {},
   "outputs": [],
   "source": []
  }
 ],
 "metadata": {
  "kernelspec": {
   "display_name": "Python 3",
   "language": "python",
   "name": "python3"
  },
  "language_info": {
   "codemirror_mode": {
    "name": "ipython",
    "version": 3
   },
   "file_extension": ".py",
   "mimetype": "text/x-python",
   "name": "python",
   "nbconvert_exporter": "python",
   "pygments_lexer": "ipython3",
   "version": "3.8.5"
  }
 },
 "nbformat": 4,
 "nbformat_minor": 4
}
